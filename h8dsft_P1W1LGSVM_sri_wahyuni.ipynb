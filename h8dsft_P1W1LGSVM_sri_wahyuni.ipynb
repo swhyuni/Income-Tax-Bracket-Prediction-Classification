{
 "cells": [
  {
   "cell_type": "markdown",
   "metadata": {},
   "source": [
    "# Graded Challenge 2"
   ]
  },
  {
   "cell_type": "markdown",
   "metadata": {},
   "source": [
    "_Graded Challenge ini dibuat guna mengevaluasi pembelajaran pada Hacktiv8 Data Science Fulltime Program khususnya pada konsep Classification terutama Logistic Regression dan SVM._\n"
   ]
  },
  {
   "cell_type": "markdown",
   "metadata": {},
   "source": [
    "# 1 - Perkenalan"
   ]
  },
  {
   "cell_type": "markdown",
   "metadata": {},
   "source": [
    "Nama    : Sri Wahyuni\n",
    "\n",
    "Batch   : FTDS-016-RMT"
   ]
  },
  {
   "cell_type": "markdown",
   "metadata": {},
   "source": [
    "### Dataset"
   ]
  },
  {
   "cell_type": "markdown",
   "metadata": {},
   "source": [
    "Dataset yang digunakan pada project ini adalah dataset yang diperoleh dari `bigquery-public-data` dengan dataset `ml_datasets` dari database bernama `census_adult_income`. link [berikut](https://console.cloud.google.com/bigquery?p=bigquery-public-data&d=ml_datasets&t=census_adult_income&page=table) untuk langsung menuju ke dataset.\n",
    "\n",
    "Data yang digunakan berdasarkan kritearia sebagai berikut:\n",
    "-  `age, workclass, education, education_num, marital_status, occupation, relationship, race, sex, capital_gain, capital_loss, hours_per_week, native_country, dan income_bracket`, \n",
    "- Kriteria semua `workclass` kecuali `?`,\n",
    "- `hours_per_week` kurang dari 100,\n",
    "- Limit jumlah data menjadi sebanyak nomor batch dikali dengan tahun lahir yaitu Batch 10 dan lahir tahun 1995, 16 x 1997 = 31952. Karena dataset dengan kriteria diatas tidak mencapai limit tersebut karena datasetnya terdiri dari 30725."
   ]
  },
  {
   "cell_type": "markdown",
   "metadata": {},
   "source": [
    "### Query Google Cloud Platform\n",
    "\n",
    "**SELECT** \n",
    "age, \n",
    "workclass, \n",
    "education, \n",
    "education_num, \n",
    "marital_status, \n",
    "occupation, \n",
    "relationship, \n",
    "race, \n",
    "sex, \n",
    "capital_gain, \n",
    "capital_loss, \n",
    "hours_per_week, \n",
    "native_country,\n",
    "income_bracket \n",
    "\n",
    "**FROM** `bigquery-public-data.ml_datasets.census_adult_income` \n",
    "\n",
    "**WHERE** workclass **NOT LIKE** '%?%' **AND** hours_per_week < 100\n",
    "\n",
    "**LIMIT** 31952"
   ]
  },
  {
   "cell_type": "markdown",
   "metadata": {},
   "source": [
    "### Problems\n",
    "\n",
    "Buatlah model Classification menggunakan Logistic Regression dan SVM untuk memprediksi `income bracket` menggunakan dataset yang sudah disimpan."
   ]
  },
  {
   "cell_type": "markdown",
   "metadata": {},
   "source": [
    "### Objectives"
   ]
  },
  {
   "cell_type": "markdown",
   "metadata": {},
   "source": [
    "_Graded Challenge 2_ ini dibuat guna mengevaluasi konsep Logistic Regression dan SVM sebagai berikut:\n",
    "\n",
    "- Mampu memperoleh data menggunakan BigQuery\n",
    "- Mampu memahami konsep Classification dengan Logistic Regression dan SVM\n",
    "- Mampu mempersiapkan data untuk digunakan dalam model Logistic Regression dan SVM\n",
    "- Mampu mengimplementasikan Logistic Regression dan SVM untuk membuat prediksi"
   ]
  },
  {
   "cell_type": "markdown",
   "metadata": {},
   "source": [
    "# 2 - Import Libraries"
   ]
  },
  {
   "cell_type": "markdown",
   "metadata": {},
   "source": [
    "Pada Project kali ini menggunakan library **Pandas**, **Numpy**, **Matplotlib**, **Seaborn** dan **Scikit-learn**"
   ]
  },
  {
   "cell_type": "code",
   "execution_count": 350,
   "metadata": {},
   "outputs": [],
   "source": [
    "import pandas as pd\n",
    "import numpy as np\n",
    "import matplotlib.pyplot as plt\n",
    "import seaborn as sns\n",
    "import scipy.stats as stats\n",
    "from sklearn.model_selection import train_test_split\n",
    "from sklearn.preprocessing import MinMaxScaler\n",
    "from sklearn.preprocessing import OrdinalEncoder #\n",
    "from sklearn.feature_selection import SelectKBest\n",
    "import warnings\n",
    "warnings.filterwarnings('ignore')\n",
    "from sklearn.feature_selection import chi2\n",
    "from sklearn.linear_model import LogisticRegression\n",
    "from sklearn.svm import SVC\n",
    "from sklearn.svm import LinearSVC\n",
    "from sklearn.metrics import classification_report"
   ]
  },
  {
   "cell_type": "markdown",
   "metadata": {},
   "source": [
    "# 3 - Data Loading"
   ]
  },
  {
   "cell_type": "markdown",
   "metadata": {},
   "source": [
    "Mengupload Dataset yang sudah diperoleh "
   ]
  },
  {
   "cell_type": "code",
   "execution_count": 351,
   "metadata": {},
   "outputs": [],
   "source": [
    "data = pd.read_csv(r'C:\\Users\\wSatrian\\github-classroom\\H8-Assignments-Bay\\p1---ftds-016-rmt--g2-swhyuni\\h8dsft_P1G2_Sri_Wahyuni.csv', skipinitialspace=True)"
   ]
  },
  {
   "cell_type": "markdown",
   "metadata": {},
   "source": [
    "Mengecek lima Dataset teratas"
   ]
  },
  {
   "cell_type": "code",
   "execution_count": 352,
   "metadata": {},
   "outputs": [
    {
     "data": {
      "text/html": [
       "<div>\n",
       "<style scoped>\n",
       "    .dataframe tbody tr th:only-of-type {\n",
       "        vertical-align: middle;\n",
       "    }\n",
       "\n",
       "    .dataframe tbody tr th {\n",
       "        vertical-align: top;\n",
       "    }\n",
       "\n",
       "    .dataframe thead th {\n",
       "        text-align: right;\n",
       "    }\n",
       "</style>\n",
       "<table border=\"1\" class=\"dataframe\">\n",
       "  <thead>\n",
       "    <tr style=\"text-align: right;\">\n",
       "      <th></th>\n",
       "      <th>age</th>\n",
       "      <th>workclass</th>\n",
       "      <th>education</th>\n",
       "      <th>education_num</th>\n",
       "      <th>marital_status</th>\n",
       "      <th>occupation</th>\n",
       "      <th>relationship</th>\n",
       "      <th>race</th>\n",
       "      <th>sex</th>\n",
       "      <th>capital_gain</th>\n",
       "      <th>capital_loss</th>\n",
       "      <th>hours_per_week</th>\n",
       "      <th>native_country</th>\n",
       "      <th>income_bracket</th>\n",
       "    </tr>\n",
       "  </thead>\n",
       "  <tbody>\n",
       "    <tr>\n",
       "      <th>0</th>\n",
       "      <td>18</td>\n",
       "      <td>Never-worked</td>\n",
       "      <td>Some-college</td>\n",
       "      <td>10</td>\n",
       "      <td>Never-married</td>\n",
       "      <td>?</td>\n",
       "      <td>Own-child</td>\n",
       "      <td>White</td>\n",
       "      <td>Male</td>\n",
       "      <td>0</td>\n",
       "      <td>0</td>\n",
       "      <td>4</td>\n",
       "      <td>United-States</td>\n",
       "      <td>&lt;=50K</td>\n",
       "    </tr>\n",
       "    <tr>\n",
       "      <th>1</th>\n",
       "      <td>37</td>\n",
       "      <td>Private</td>\n",
       "      <td>12th</td>\n",
       "      <td>8</td>\n",
       "      <td>Married-civ-spouse</td>\n",
       "      <td>Sales</td>\n",
       "      <td>Wife</td>\n",
       "      <td>Asian-Pac-Islander</td>\n",
       "      <td>Female</td>\n",
       "      <td>0</td>\n",
       "      <td>0</td>\n",
       "      <td>33</td>\n",
       "      <td>?</td>\n",
       "      <td>&lt;=50K</td>\n",
       "    </tr>\n",
       "    <tr>\n",
       "      <th>2</th>\n",
       "      <td>39</td>\n",
       "      <td>Self-emp-not-inc</td>\n",
       "      <td>HS-grad</td>\n",
       "      <td>9</td>\n",
       "      <td>Married-civ-spouse</td>\n",
       "      <td>Sales</td>\n",
       "      <td>Wife</td>\n",
       "      <td>Black</td>\n",
       "      <td>Female</td>\n",
       "      <td>0</td>\n",
       "      <td>0</td>\n",
       "      <td>54</td>\n",
       "      <td>Dominican-Republic</td>\n",
       "      <td>&gt;50K</td>\n",
       "    </tr>\n",
       "    <tr>\n",
       "      <th>3</th>\n",
       "      <td>29</td>\n",
       "      <td>Private</td>\n",
       "      <td>HS-grad</td>\n",
       "      <td>9</td>\n",
       "      <td>Married-civ-spouse</td>\n",
       "      <td>Sales</td>\n",
       "      <td>Wife</td>\n",
       "      <td>White</td>\n",
       "      <td>Female</td>\n",
       "      <td>0</td>\n",
       "      <td>0</td>\n",
       "      <td>18</td>\n",
       "      <td>United-States</td>\n",
       "      <td>&lt;=50K</td>\n",
       "    </tr>\n",
       "    <tr>\n",
       "      <th>4</th>\n",
       "      <td>64</td>\n",
       "      <td>Private</td>\n",
       "      <td>HS-grad</td>\n",
       "      <td>9</td>\n",
       "      <td>Married-civ-spouse</td>\n",
       "      <td>Sales</td>\n",
       "      <td>Wife</td>\n",
       "      <td>White</td>\n",
       "      <td>Female</td>\n",
       "      <td>0</td>\n",
       "      <td>0</td>\n",
       "      <td>21</td>\n",
       "      <td>United-States</td>\n",
       "      <td>&lt;=50K</td>\n",
       "    </tr>\n",
       "  </tbody>\n",
       "</table>\n",
       "</div>"
      ],
      "text/plain": [
       "   age         workclass     education  education_num      marital_status  \\\n",
       "0   18      Never-worked  Some-college             10       Never-married   \n",
       "1   37           Private          12th              8  Married-civ-spouse   \n",
       "2   39  Self-emp-not-inc       HS-grad              9  Married-civ-spouse   \n",
       "3   29           Private       HS-grad              9  Married-civ-spouse   \n",
       "4   64           Private       HS-grad              9  Married-civ-spouse   \n",
       "\n",
       "  occupation relationship                race     sex  capital_gain  \\\n",
       "0          ?    Own-child               White    Male             0   \n",
       "1      Sales         Wife  Asian-Pac-Islander  Female             0   \n",
       "2      Sales         Wife               Black  Female             0   \n",
       "3      Sales         Wife               White  Female             0   \n",
       "4      Sales         Wife               White  Female             0   \n",
       "\n",
       "   capital_loss  hours_per_week      native_country income_bracket  \n",
       "0             0               4       United-States          <=50K  \n",
       "1             0              33                   ?          <=50K  \n",
       "2             0              54  Dominican-Republic           >50K  \n",
       "3             0              18       United-States          <=50K  \n",
       "4             0              21       United-States          <=50K  "
      ]
     },
     "execution_count": 352,
     "metadata": {},
     "output_type": "execute_result"
    }
   ],
   "source": [
    "data.head()"
   ]
  },
  {
   "cell_type": "markdown",
   "metadata": {},
   "source": [
    "Mengecek Lima Dataset Terbawah"
   ]
  },
  {
   "cell_type": "code",
   "execution_count": 353,
   "metadata": {},
   "outputs": [
    {
     "data": {
      "text/html": [
       "<div>\n",
       "<style scoped>\n",
       "    .dataframe tbody tr th:only-of-type {\n",
       "        vertical-align: middle;\n",
       "    }\n",
       "\n",
       "    .dataframe tbody tr th {\n",
       "        vertical-align: top;\n",
       "    }\n",
       "\n",
       "    .dataframe thead th {\n",
       "        text-align: right;\n",
       "    }\n",
       "</style>\n",
       "<table border=\"1\" class=\"dataframe\">\n",
       "  <thead>\n",
       "    <tr style=\"text-align: right;\">\n",
       "      <th></th>\n",
       "      <th>age</th>\n",
       "      <th>workclass</th>\n",
       "      <th>education</th>\n",
       "      <th>education_num</th>\n",
       "      <th>marital_status</th>\n",
       "      <th>occupation</th>\n",
       "      <th>relationship</th>\n",
       "      <th>race</th>\n",
       "      <th>sex</th>\n",
       "      <th>capital_gain</th>\n",
       "      <th>capital_loss</th>\n",
       "      <th>hours_per_week</th>\n",
       "      <th>native_country</th>\n",
       "      <th>income_bracket</th>\n",
       "    </tr>\n",
       "  </thead>\n",
       "  <tbody>\n",
       "    <tr>\n",
       "      <th>30720</th>\n",
       "      <td>50</td>\n",
       "      <td>Self-emp-inc</td>\n",
       "      <td>Some-college</td>\n",
       "      <td>10</td>\n",
       "      <td>Married-civ-spouse</td>\n",
       "      <td>Machine-op-inspct</td>\n",
       "      <td>Husband</td>\n",
       "      <td>White</td>\n",
       "      <td>Male</td>\n",
       "      <td>0</td>\n",
       "      <td>0</td>\n",
       "      <td>70</td>\n",
       "      <td>Germany</td>\n",
       "      <td>&lt;=50K</td>\n",
       "    </tr>\n",
       "    <tr>\n",
       "      <th>30721</th>\n",
       "      <td>21</td>\n",
       "      <td>Private</td>\n",
       "      <td>Some-college</td>\n",
       "      <td>10</td>\n",
       "      <td>Never-married</td>\n",
       "      <td>Machine-op-inspct</td>\n",
       "      <td>Own-child</td>\n",
       "      <td>White</td>\n",
       "      <td>Female</td>\n",
       "      <td>0</td>\n",
       "      <td>0</td>\n",
       "      <td>70</td>\n",
       "      <td>United-States</td>\n",
       "      <td>&lt;=50K</td>\n",
       "    </tr>\n",
       "    <tr>\n",
       "      <th>30722</th>\n",
       "      <td>32</td>\n",
       "      <td>Private</td>\n",
       "      <td>Some-college</td>\n",
       "      <td>10</td>\n",
       "      <td>Separated</td>\n",
       "      <td>Machine-op-inspct</td>\n",
       "      <td>Unmarried</td>\n",
       "      <td>Black</td>\n",
       "      <td>Female</td>\n",
       "      <td>0</td>\n",
       "      <td>0</td>\n",
       "      <td>70</td>\n",
       "      <td>United-States</td>\n",
       "      <td>&lt;=50K</td>\n",
       "    </tr>\n",
       "    <tr>\n",
       "      <th>30723</th>\n",
       "      <td>39</td>\n",
       "      <td>Private</td>\n",
       "      <td>HS-grad</td>\n",
       "      <td>9</td>\n",
       "      <td>Divorced</td>\n",
       "      <td>Machine-op-inspct</td>\n",
       "      <td>Not-in-family</td>\n",
       "      <td>Black</td>\n",
       "      <td>Female</td>\n",
       "      <td>0</td>\n",
       "      <td>0</td>\n",
       "      <td>70</td>\n",
       "      <td>United-States</td>\n",
       "      <td>&lt;=50K</td>\n",
       "    </tr>\n",
       "    <tr>\n",
       "      <th>30724</th>\n",
       "      <td>20</td>\n",
       "      <td>Private</td>\n",
       "      <td>Some-college</td>\n",
       "      <td>10</td>\n",
       "      <td>Never-married</td>\n",
       "      <td>Machine-op-inspct</td>\n",
       "      <td>Not-in-family</td>\n",
       "      <td>White</td>\n",
       "      <td>Male</td>\n",
       "      <td>0</td>\n",
       "      <td>0</td>\n",
       "      <td>70</td>\n",
       "      <td>United-States</td>\n",
       "      <td>&lt;=50K</td>\n",
       "    </tr>\n",
       "  </tbody>\n",
       "</table>\n",
       "</div>"
      ],
      "text/plain": [
       "       age     workclass     education  education_num      marital_status  \\\n",
       "30720   50  Self-emp-inc  Some-college             10  Married-civ-spouse   \n",
       "30721   21       Private  Some-college             10       Never-married   \n",
       "30722   32       Private  Some-college             10           Separated   \n",
       "30723   39       Private       HS-grad              9            Divorced   \n",
       "30724   20       Private  Some-college             10       Never-married   \n",
       "\n",
       "              occupation   relationship   race     sex  capital_gain  \\\n",
       "30720  Machine-op-inspct        Husband  White    Male             0   \n",
       "30721  Machine-op-inspct      Own-child  White  Female             0   \n",
       "30722  Machine-op-inspct      Unmarried  Black  Female             0   \n",
       "30723  Machine-op-inspct  Not-in-family  Black  Female             0   \n",
       "30724  Machine-op-inspct  Not-in-family  White    Male             0   \n",
       "\n",
       "       capital_loss  hours_per_week native_country income_bracket  \n",
       "30720             0              70        Germany          <=50K  \n",
       "30721             0              70  United-States          <=50K  \n",
       "30722             0              70  United-States          <=50K  \n",
       "30723             0              70  United-States          <=50K  \n",
       "30724             0              70  United-States          <=50K  "
      ]
     },
     "execution_count": 353,
     "metadata": {},
     "output_type": "execute_result"
    }
   ],
   "source": [
    "data.tail()"
   ]
  },
  {
   "cell_type": "markdown",
   "metadata": {},
   "source": [
    "Menduplicate Dataset"
   ]
  },
  {
   "cell_type": "code",
   "execution_count": 354,
   "metadata": {},
   "outputs": [],
   "source": [
    "data_duplicate = data.copy()"
   ]
  },
  {
   "cell_type": "code",
   "execution_count": 355,
   "metadata": {},
   "outputs": [
    {
     "data": {
      "text/plain": [
       "(30725, 14)"
      ]
     },
     "execution_count": 355,
     "metadata": {},
     "output_type": "execute_result"
    }
   ],
   "source": [
    "data.shape"
   ]
  },
  {
   "cell_type": "markdown",
   "metadata": {},
   "source": [
    "Dataset ini terdiri dari 30725 baris dan 14 kolom"
   ]
  },
  {
   "cell_type": "code",
   "execution_count": 356,
   "metadata": {},
   "outputs": [
    {
     "name": "stdout",
     "output_type": "stream",
     "text": [
      "<class 'pandas.core.frame.DataFrame'>\n",
      "RangeIndex: 30725 entries, 0 to 30724\n",
      "Data columns (total 14 columns):\n",
      " #   Column          Non-Null Count  Dtype \n",
      "---  ------          --------------  ----- \n",
      " 0   age             30725 non-null  int64 \n",
      " 1   workclass       30725 non-null  object\n",
      " 2   education       30725 non-null  object\n",
      " 3   education_num   30725 non-null  int64 \n",
      " 4   marital_status  30725 non-null  object\n",
      " 5   occupation      30725 non-null  object\n",
      " 6   relationship    30725 non-null  object\n",
      " 7   race            30725 non-null  object\n",
      " 8   sex             30725 non-null  object\n",
      " 9   capital_gain    30725 non-null  int64 \n",
      " 10  capital_loss    30725 non-null  int64 \n",
      " 11  hours_per_week  30725 non-null  int64 \n",
      " 12  native_country  30725 non-null  object\n",
      " 13  income_bracket  30725 non-null  object\n",
      "dtypes: int64(5), object(9)\n",
      "memory usage: 3.3+ MB\n"
     ]
    }
   ],
   "source": [
    "data.info()"
   ]
  },
  {
   "cell_type": "markdown",
   "metadata": {},
   "source": [
    "DataFrame ini terbetuk dari:\n",
    "- 5 tipe data **interger** \n",
    "- 9 tipe data **object**"
   ]
  },
  {
   "cell_type": "code",
   "execution_count": 357,
   "metadata": {},
   "outputs": [
    {
     "data": {
      "text/html": [
       "<div>\n",
       "<style scoped>\n",
       "    .dataframe tbody tr th:only-of-type {\n",
       "        vertical-align: middle;\n",
       "    }\n",
       "\n",
       "    .dataframe tbody tr th {\n",
       "        vertical-align: top;\n",
       "    }\n",
       "\n",
       "    .dataframe thead th {\n",
       "        text-align: right;\n",
       "    }\n",
       "</style>\n",
       "<table border=\"1\" class=\"dataframe\">\n",
       "  <thead>\n",
       "    <tr style=\"text-align: right;\">\n",
       "      <th></th>\n",
       "      <th>count</th>\n",
       "      <th>mean</th>\n",
       "      <th>std</th>\n",
       "      <th>min</th>\n",
       "      <th>25%</th>\n",
       "      <th>50%</th>\n",
       "      <th>75%</th>\n",
       "      <th>max</th>\n",
       "    </tr>\n",
       "  </thead>\n",
       "  <tbody>\n",
       "    <tr>\n",
       "      <th>age</th>\n",
       "      <td>30725.0</td>\n",
       "      <td>38.439512</td>\n",
       "      <td>13.119665</td>\n",
       "      <td>17.0</td>\n",
       "      <td>28.0</td>\n",
       "      <td>37.0</td>\n",
       "      <td>47.0</td>\n",
       "      <td>90.0</td>\n",
       "    </tr>\n",
       "    <tr>\n",
       "      <th>education_num</th>\n",
       "      <td>30725.0</td>\n",
       "      <td>10.129699</td>\n",
       "      <td>2.562702</td>\n",
       "      <td>1.0</td>\n",
       "      <td>9.0</td>\n",
       "      <td>10.0</td>\n",
       "      <td>13.0</td>\n",
       "      <td>16.0</td>\n",
       "    </tr>\n",
       "    <tr>\n",
       "      <th>capital_gain</th>\n",
       "      <td>30725.0</td>\n",
       "      <td>1105.785094</td>\n",
       "      <td>7497.027762</td>\n",
       "      <td>0.0</td>\n",
       "      <td>0.0</td>\n",
       "      <td>0.0</td>\n",
       "      <td>0.0</td>\n",
       "      <td>99999.0</td>\n",
       "    </tr>\n",
       "    <tr>\n",
       "      <th>capital_loss</th>\n",
       "      <td>30725.0</td>\n",
       "      <td>88.889959</td>\n",
       "      <td>405.613208</td>\n",
       "      <td>0.0</td>\n",
       "      <td>0.0</td>\n",
       "      <td>0.0</td>\n",
       "      <td>0.0</td>\n",
       "      <td>4356.0</td>\n",
       "    </tr>\n",
       "    <tr>\n",
       "      <th>hours_per_week</th>\n",
       "      <td>30725.0</td>\n",
       "      <td>40.946461</td>\n",
       "      <td>11.987385</td>\n",
       "      <td>1.0</td>\n",
       "      <td>40.0</td>\n",
       "      <td>40.0</td>\n",
       "      <td>45.0</td>\n",
       "      <td>99.0</td>\n",
       "    </tr>\n",
       "  </tbody>\n",
       "</table>\n",
       "</div>"
      ],
      "text/plain": [
       "                  count         mean          std   min   25%   50%   75%  \\\n",
       "age             30725.0    38.439512    13.119665  17.0  28.0  37.0  47.0   \n",
       "education_num   30725.0    10.129699     2.562702   1.0   9.0  10.0  13.0   \n",
       "capital_gain    30725.0  1105.785094  7497.027762   0.0   0.0   0.0   0.0   \n",
       "capital_loss    30725.0    88.889959   405.613208   0.0   0.0   0.0   0.0   \n",
       "hours_per_week  30725.0    40.946461    11.987385   1.0  40.0  40.0  45.0   \n",
       "\n",
       "                    max  \n",
       "age                90.0  \n",
       "education_num      16.0  \n",
       "capital_gain    99999.0  \n",
       "capital_loss     4356.0  \n",
       "hours_per_week     99.0  "
      ]
     },
     "execution_count": 357,
     "metadata": {},
     "output_type": "execute_result"
    }
   ],
   "source": [
    "data.describe().T"
   ]
  },
  {
   "cell_type": "markdown",
   "metadata": {},
   "source": [
    "Dari tabel diatas diperoleh beberapa informasi:\n",
    "- Dilihat berdasarkan 'age' rentan usia pekerja berada di kategori **dewasa** yaitu 38 tahun\n",
    "- Terdapat orang yang tidak memiliki capital_gain dan capital_loss\n",
    "- Jam kerja perminggu cukup unik karena ada orang yang bekerja hanya 1 jam dalam 1 minggu, sedangkan jam paling banyak yaitu 99 jam perminggu (hal ini juga dapat dipengaruhi karena dibuat batasan untuk project hour_per_week kurang dari 100 jam)\n",
    "- Distribusi data tampaknya ada skew dilihat pada kolom capital_gain dan capital_loss nilai mean lebih besar dari median "
   ]
  },
  {
   "cell_type": "markdown",
   "metadata": {},
   "source": [
    "# 4 - Exploratory Data Analysisi (EDA)"
   ]
  },
  {
   "cell_type": "markdown",
   "metadata": {},
   "source": [
    "## Income Bracket (Target Column)"
   ]
  },
  {
   "cell_type": "code",
   "execution_count": 358,
   "metadata": {},
   "outputs": [
    {
     "name": "stdout",
     "output_type": "stream",
     "text": [
      "Number of unique values in Income Bracket: 2\n",
      "Uniqe values in Income Bracket: ['<=50K' '>50K']\n"
     ]
    }
   ],
   "source": [
    "print(f'Number of unique values in Income Bracket: {data.income_bracket.nunique()}')\n",
    "print(f'Uniqe values in Income Bracket: {data.income_bracket.unique()}')"
   ]
  },
  {
   "cell_type": "markdown",
   "metadata": {},
   "source": [
    "Mari kita lihat visualnya dengan membuat function agar mempermudah analisa selanjutnya"
   ]
  },
  {
   "cell_type": "code",
   "execution_count": 359,
   "metadata": {},
   "outputs": [],
   "source": [
    "# Membuat function visualisasi\n",
    "\n",
    "def visual_data(df, variabel):\n",
    "    plt.figure(figsize=(10,6))\n",
    "    sns.countplot(x=df[variabel])\n"
   ]
  },
  {
   "cell_type": "code",
   "execution_count": 360,
   "metadata": {},
   "outputs": [
    {
     "data": {
      "image/png": "[encoded data removed]",
      "text/plain": [
       "<Figure size 1000x600 with 1 Axes>"
      ]
     },
     "metadata": {},
     "output_type": "display_data"
    }
   ],
   "source": [
    "visual_data(data, 'income_bracket')"
   ]
  },
  {
   "cell_type": "code",
   "execution_count": 361,
   "metadata": {},
   "outputs": [
    {
     "data": {
      "image/png": "[encoded data removed]",
      "text/plain": [
       "<Figure size 640x480 with 1 Axes>"
      ]
     },
     "metadata": {},
     "output_type": "display_data"
    }
   ],
   "source": [
    "plt.pie(data.groupby('income_bracket').size(), labels=data.groupby('income_bracket').size().index, autopct='%1.1f%%')\n",
    "plt.title('Income_bracket')\n",
    "plt.show()"
   ]
  },
  {
   "cell_type": "markdown",
   "metadata": {},
   "source": [
    "Pada kolom Income Bracket terdapat 2 nilai yaitu pendapatan kurang dari sama dengan 50000 (<=50k) dan lebih dari 50000 (>50k). bedasarkan hasil visualisai orang dengan penghasilan lebih dari 50000 sedikit. Data ini termasuk ke data **imbalance**."
   ]
  },
  {
   "cell_type": "markdown",
   "metadata": {},
   "source": [
    "### Age\t"
   ]
  },
  {
   "cell_type": "code",
   "execution_count": 362,
   "metadata": {},
   "outputs": [
    {
     "name": "stdout",
     "output_type": "stream",
     "text": [
      "Number of unique values in Age: 72\n",
      "Uniqe values in Age: [18 37 39 29 64 31 53 56 28 52 23 59 50 61 47 66 63 26 54 62 38 32 41 33\n",
      " 43 42 40 69 35 30 58 44 71 45 65 25 49 46 51 72 60 55 73 48 77 22 36 17\n",
      " 19 20 27 24 21 57 90 68 67 34 76 70 75 84 74 78 79 81 85 82 83 80 88 86]\n"
     ]
    }
   ],
   "source": [
    "print(f'Number of unique values in Age: {data.age.nunique()}')\n",
    "print(f'Uniqe values in Age: {data.age.unique()}')"
   ]
  },
  {
   "cell_type": "code",
   "execution_count": 363,
   "metadata": {},
   "outputs": [
    {
     "data": {
      "image/png": "[encoded data removed]",
      "text/plain": [
       "<Figure size 1000x600 with 1 Axes>"
      ]
     },
     "metadata": {},
     "output_type": "display_data"
    }
   ],
   "source": [
    "visual_data(data, 'age')"
   ]
  },
  {
   "cell_type": "markdown",
   "metadata": {},
   "source": [
    "Pada kolom 'age' memiliki uniqe value yang banyak yaitu dari usia 17 tahun hingga 90 tahun, rata-rata usia terbanyak yaitu 38 tahun"
   ]
  },
  {
   "cell_type": "code",
   "execution_count": 364,
   "metadata": {},
   "outputs": [],
   "source": [
    "# Membuat function untuk distribusi data\n",
    "\n",
    "def histogram_plot(df, variabel):\n",
    "    plt.figure(figsize=(15,5))\n",
    "    plt.subplot(1,2,1)\n",
    "    sns.histplot(df[variabel], kde=True, bins=25)\n",
    "    plt.title('Histogram')\n",
    "\n",
    "# boxplot\n",
    "    plt.subplot(1,2,2)\n",
    "    sns.boxplot(y=df[variabel])\n",
    "    plt.title('Boxplot')\n",
    "    plt.show()\n",
    "    print('\\nSkewness Value : ', df[variabel].skew())"
   ]
  },
  {
   "cell_type": "code",
   "execution_count": 365,
   "metadata": {},
   "outputs": [
    {
     "data": {
      "image/png": "[encoded data removed]",
      "text/plain": [
       "<Figure size 1500x500 with 2 Axes>"
      ]
     },
     "metadata": {},
     "output_type": "display_data"
    },
    {
     "name": "stdout",
     "output_type": "stream",
     "text": [
      "\n",
      "Skewness Value :  0.5316675402543493\n"
     ]
    }
   ],
   "source": [
    "histogram_plot(data, 'age')"
   ]
  },
  {
   "cell_type": "markdown",
   "metadata": {},
   "source": [
    "Distribusi kolom 'age' adalah right skewness dengan nilai 0.53 yang artinya distribusi condong ke arah kanan yang mengakibatkan adanya outlier pada atas atau sisi kanan, karena Logostic Regrassion dan SVM sensitif dengan outlier akan kita handling outlier di **preprocessing** "
   ]
  },
  {
   "cell_type": "markdown",
   "metadata": {},
   "source": [
    "### Education and Education_num"
   ]
  },
  {
   "cell_type": "code",
   "execution_count": 366,
   "metadata": {},
   "outputs": [
    {
     "data": {
      "text/html": [
       "<div>\n",
       "<style scoped>\n",
       "    .dataframe tbody tr th:only-of-type {\n",
       "        vertical-align: middle;\n",
       "    }\n",
       "\n",
       "    .dataframe tbody tr th {\n",
       "        vertical-align: top;\n",
       "    }\n",
       "\n",
       "    .dataframe thead th {\n",
       "        text-align: right;\n",
       "    }\n",
       "</style>\n",
       "<table border=\"1\" class=\"dataframe\">\n",
       "  <thead>\n",
       "    <tr style=\"text-align: right;\">\n",
       "      <th>education</th>\n",
       "      <th>10th</th>\n",
       "      <th>11th</th>\n",
       "      <th>12th</th>\n",
       "      <th>1st-4th</th>\n",
       "      <th>5th-6th</th>\n",
       "      <th>7th-8th</th>\n",
       "      <th>9th</th>\n",
       "      <th>Assoc-acdm</th>\n",
       "      <th>Assoc-voc</th>\n",
       "      <th>Bachelors</th>\n",
       "      <th>Doctorate</th>\n",
       "      <th>HS-grad</th>\n",
       "      <th>Masters</th>\n",
       "      <th>Preschool</th>\n",
       "      <th>Prof-school</th>\n",
       "      <th>Some-college</th>\n",
       "    </tr>\n",
       "    <tr>\n",
       "      <th>education_num</th>\n",
       "      <th></th>\n",
       "      <th></th>\n",
       "      <th></th>\n",
       "      <th></th>\n",
       "      <th></th>\n",
       "      <th></th>\n",
       "      <th></th>\n",
       "      <th></th>\n",
       "      <th></th>\n",
       "      <th></th>\n",
       "      <th></th>\n",
       "      <th></th>\n",
       "      <th></th>\n",
       "      <th></th>\n",
       "      <th></th>\n",
       "      <th></th>\n",
       "    </tr>\n",
       "  </thead>\n",
       "  <tbody>\n",
       "    <tr>\n",
       "      <th>1</th>\n",
       "      <td>0</td>\n",
       "      <td>0</td>\n",
       "      <td>0</td>\n",
       "      <td>0</td>\n",
       "      <td>0</td>\n",
       "      <td>0</td>\n",
       "      <td>0</td>\n",
       "      <td>0</td>\n",
       "      <td>0</td>\n",
       "      <td>0</td>\n",
       "      <td>0</td>\n",
       "      <td>0</td>\n",
       "      <td>0</td>\n",
       "      <td>46</td>\n",
       "      <td>0</td>\n",
       "      <td>0</td>\n",
       "    </tr>\n",
       "    <tr>\n",
       "      <th>2</th>\n",
       "      <td>0</td>\n",
       "      <td>0</td>\n",
       "      <td>0</td>\n",
       "      <td>156</td>\n",
       "      <td>0</td>\n",
       "      <td>0</td>\n",
       "      <td>0</td>\n",
       "      <td>0</td>\n",
       "      <td>0</td>\n",
       "      <td>0</td>\n",
       "      <td>0</td>\n",
       "      <td>0</td>\n",
       "      <td>0</td>\n",
       "      <td>0</td>\n",
       "      <td>0</td>\n",
       "      <td>0</td>\n",
       "    </tr>\n",
       "    <tr>\n",
       "      <th>3</th>\n",
       "      <td>0</td>\n",
       "      <td>0</td>\n",
       "      <td>0</td>\n",
       "      <td>0</td>\n",
       "      <td>303</td>\n",
       "      <td>0</td>\n",
       "      <td>0</td>\n",
       "      <td>0</td>\n",
       "      <td>0</td>\n",
       "      <td>0</td>\n",
       "      <td>0</td>\n",
       "      <td>0</td>\n",
       "      <td>0</td>\n",
       "      <td>0</td>\n",
       "      <td>0</td>\n",
       "      <td>0</td>\n",
       "    </tr>\n",
       "    <tr>\n",
       "      <th>4</th>\n",
       "      <td>0</td>\n",
       "      <td>0</td>\n",
       "      <td>0</td>\n",
       "      <td>0</td>\n",
       "      <td>0</td>\n",
       "      <td>574</td>\n",
       "      <td>0</td>\n",
       "      <td>0</td>\n",
       "      <td>0</td>\n",
       "      <td>0</td>\n",
       "      <td>0</td>\n",
       "      <td>0</td>\n",
       "      <td>0</td>\n",
       "      <td>0</td>\n",
       "      <td>0</td>\n",
       "      <td>0</td>\n",
       "    </tr>\n",
       "    <tr>\n",
       "      <th>5</th>\n",
       "      <td>0</td>\n",
       "      <td>0</td>\n",
       "      <td>0</td>\n",
       "      <td>0</td>\n",
       "      <td>0</td>\n",
       "      <td>0</td>\n",
       "      <td>463</td>\n",
       "      <td>0</td>\n",
       "      <td>0</td>\n",
       "      <td>0</td>\n",
       "      <td>0</td>\n",
       "      <td>0</td>\n",
       "      <td>0</td>\n",
       "      <td>0</td>\n",
       "      <td>0</td>\n",
       "      <td>0</td>\n",
       "    </tr>\n",
       "    <tr>\n",
       "      <th>6</th>\n",
       "      <td>833</td>\n",
       "      <td>0</td>\n",
       "      <td>0</td>\n",
       "      <td>0</td>\n",
       "      <td>0</td>\n",
       "      <td>0</td>\n",
       "      <td>0</td>\n",
       "      <td>0</td>\n",
       "      <td>0</td>\n",
       "      <td>0</td>\n",
       "      <td>0</td>\n",
       "      <td>0</td>\n",
       "      <td>0</td>\n",
       "      <td>0</td>\n",
       "      <td>0</td>\n",
       "      <td>0</td>\n",
       "    </tr>\n",
       "    <tr>\n",
       "      <th>7</th>\n",
       "      <td>0</td>\n",
       "      <td>1057</td>\n",
       "      <td>0</td>\n",
       "      <td>0</td>\n",
       "      <td>0</td>\n",
       "      <td>0</td>\n",
       "      <td>0</td>\n",
       "      <td>0</td>\n",
       "      <td>0</td>\n",
       "      <td>0</td>\n",
       "      <td>0</td>\n",
       "      <td>0</td>\n",
       "      <td>0</td>\n",
       "      <td>0</td>\n",
       "      <td>0</td>\n",
       "      <td>0</td>\n",
       "    </tr>\n",
       "    <tr>\n",
       "      <th>8</th>\n",
       "      <td>0</td>\n",
       "      <td>0</td>\n",
       "      <td>393</td>\n",
       "      <td>0</td>\n",
       "      <td>0</td>\n",
       "      <td>0</td>\n",
       "      <td>0</td>\n",
       "      <td>0</td>\n",
       "      <td>0</td>\n",
       "      <td>0</td>\n",
       "      <td>0</td>\n",
       "      <td>0</td>\n",
       "      <td>0</td>\n",
       "      <td>0</td>\n",
       "      <td>0</td>\n",
       "      <td>0</td>\n",
       "    </tr>\n",
       "    <tr>\n",
       "      <th>9</th>\n",
       "      <td>0</td>\n",
       "      <td>0</td>\n",
       "      <td>0</td>\n",
       "      <td>0</td>\n",
       "      <td>0</td>\n",
       "      <td>0</td>\n",
       "      <td>0</td>\n",
       "      <td>0</td>\n",
       "      <td>0</td>\n",
       "      <td>0</td>\n",
       "      <td>0</td>\n",
       "      <td>9969</td>\n",
       "      <td>0</td>\n",
       "      <td>0</td>\n",
       "      <td>0</td>\n",
       "      <td>0</td>\n",
       "    </tr>\n",
       "    <tr>\n",
       "      <th>10</th>\n",
       "      <td>0</td>\n",
       "      <td>0</td>\n",
       "      <td>0</td>\n",
       "      <td>0</td>\n",
       "      <td>0</td>\n",
       "      <td>0</td>\n",
       "      <td>0</td>\n",
       "      <td>0</td>\n",
       "      <td>0</td>\n",
       "      <td>0</td>\n",
       "      <td>0</td>\n",
       "      <td>0</td>\n",
       "      <td>0</td>\n",
       "      <td>0</td>\n",
       "      <td>0</td>\n",
       "      <td>6777</td>\n",
       "    </tr>\n",
       "    <tr>\n",
       "      <th>11</th>\n",
       "      <td>0</td>\n",
       "      <td>0</td>\n",
       "      <td>0</td>\n",
       "      <td>0</td>\n",
       "      <td>0</td>\n",
       "      <td>0</td>\n",
       "      <td>0</td>\n",
       "      <td>0</td>\n",
       "      <td>1321</td>\n",
       "      <td>0</td>\n",
       "      <td>0</td>\n",
       "      <td>0</td>\n",
       "      <td>0</td>\n",
       "      <td>0</td>\n",
       "      <td>0</td>\n",
       "      <td>0</td>\n",
       "    </tr>\n",
       "    <tr>\n",
       "      <th>12</th>\n",
       "      <td>0</td>\n",
       "      <td>0</td>\n",
       "      <td>0</td>\n",
       "      <td>0</td>\n",
       "      <td>0</td>\n",
       "      <td>0</td>\n",
       "      <td>0</td>\n",
       "      <td>1020</td>\n",
       "      <td>0</td>\n",
       "      <td>0</td>\n",
       "      <td>0</td>\n",
       "      <td>0</td>\n",
       "      <td>0</td>\n",
       "      <td>0</td>\n",
       "      <td>0</td>\n",
       "      <td>0</td>\n",
       "    </tr>\n",
       "    <tr>\n",
       "      <th>13</th>\n",
       "      <td>0</td>\n",
       "      <td>0</td>\n",
       "      <td>0</td>\n",
       "      <td>0</td>\n",
       "      <td>0</td>\n",
       "      <td>0</td>\n",
       "      <td>0</td>\n",
       "      <td>0</td>\n",
       "      <td>0</td>\n",
       "      <td>5182</td>\n",
       "      <td>0</td>\n",
       "      <td>0</td>\n",
       "      <td>0</td>\n",
       "      <td>0</td>\n",
       "      <td>0</td>\n",
       "      <td>0</td>\n",
       "    </tr>\n",
       "    <tr>\n",
       "      <th>14</th>\n",
       "      <td>0</td>\n",
       "      <td>0</td>\n",
       "      <td>0</td>\n",
       "      <td>0</td>\n",
       "      <td>0</td>\n",
       "      <td>0</td>\n",
       "      <td>0</td>\n",
       "      <td>0</td>\n",
       "      <td>0</td>\n",
       "      <td>0</td>\n",
       "      <td>0</td>\n",
       "      <td>0</td>\n",
       "      <td>1675</td>\n",
       "      <td>0</td>\n",
       "      <td>0</td>\n",
       "      <td>0</td>\n",
       "    </tr>\n",
       "    <tr>\n",
       "      <th>15</th>\n",
       "      <td>0</td>\n",
       "      <td>0</td>\n",
       "      <td>0</td>\n",
       "      <td>0</td>\n",
       "      <td>0</td>\n",
       "      <td>0</td>\n",
       "      <td>0</td>\n",
       "      <td>0</td>\n",
       "      <td>0</td>\n",
       "      <td>0</td>\n",
       "      <td>0</td>\n",
       "      <td>0</td>\n",
       "      <td>0</td>\n",
       "      <td>0</td>\n",
       "      <td>558</td>\n",
       "      <td>0</td>\n",
       "    </tr>\n",
       "    <tr>\n",
       "      <th>16</th>\n",
       "      <td>0</td>\n",
       "      <td>0</td>\n",
       "      <td>0</td>\n",
       "      <td>0</td>\n",
       "      <td>0</td>\n",
       "      <td>0</td>\n",
       "      <td>0</td>\n",
       "      <td>0</td>\n",
       "      <td>0</td>\n",
       "      <td>0</td>\n",
       "      <td>398</td>\n",
       "      <td>0</td>\n",
       "      <td>0</td>\n",
       "      <td>0</td>\n",
       "      <td>0</td>\n",
       "      <td>0</td>\n",
       "    </tr>\n",
       "  </tbody>\n",
       "</table>\n",
       "</div>"
      ],
      "text/plain": [
       "education      10th  11th  12th  1st-4th  5th-6th  7th-8th  9th  Assoc-acdm  \\\n",
       "education_num                                                                 \n",
       "1                 0     0     0        0        0        0    0           0   \n",
       "2                 0     0     0      156        0        0    0           0   \n",
       "3                 0     0     0        0      303        0    0           0   \n",
       "4                 0     0     0        0        0      574    0           0   \n",
       "5                 0     0     0        0        0        0  463           0   \n",
       "6               833     0     0        0        0        0    0           0   \n",
       "7                 0  1057     0        0        0        0    0           0   \n",
       "8                 0     0   393        0        0        0    0           0   \n",
       "9                 0     0     0        0        0        0    0           0   \n",
       "10                0     0     0        0        0        0    0           0   \n",
       "11                0     0     0        0        0        0    0           0   \n",
       "12                0     0     0        0        0        0    0        1020   \n",
       "13                0     0     0        0        0        0    0           0   \n",
       "14                0     0     0        0        0        0    0           0   \n",
       "15                0     0     0        0        0        0    0           0   \n",
       "16                0     0     0        0        0        0    0           0   \n",
       "\n",
       "education      Assoc-voc  Bachelors  Doctorate  HS-grad  Masters  Preschool  \\\n",
       "education_num                                                                 \n",
       "1                      0          0          0        0        0         46   \n",
       "2                      0          0          0        0        0          0   \n",
       "3                      0          0          0        0        0          0   \n",
       "4                      0          0          0        0        0          0   \n",
       "5                      0          0          0        0        0          0   \n",
       "6                      0          0          0        0        0          0   \n",
       "7                      0          0          0        0        0          0   \n",
       "8                      0          0          0        0        0          0   \n",
       "9                      0          0          0     9969        0          0   \n",
       "10                     0          0          0        0        0          0   \n",
       "11                  1321          0          0        0        0          0   \n",
       "12                     0          0          0        0        0          0   \n",
       "13                     0       5182          0        0        0          0   \n",
       "14                     0          0          0        0     1675          0   \n",
       "15                     0          0          0        0        0          0   \n",
       "16                     0          0        398        0        0          0   \n",
       "\n",
       "education      Prof-school  Some-college  \n",
       "education_num                             \n",
       "1                        0             0  \n",
       "2                        0             0  \n",
       "3                        0             0  \n",
       "4                        0             0  \n",
       "5                        0             0  \n",
       "6                        0             0  \n",
       "7                        0             0  \n",
       "8                        0             0  \n",
       "9                        0             0  \n",
       "10                       0          6777  \n",
       "11                       0             0  \n",
       "12                       0             0  \n",
       "13                       0             0  \n",
       "14                       0             0  \n",
       "15                     558             0  \n",
       "16                       0             0  "
      ]
     },
     "execution_count": 366,
     "metadata": {},
     "output_type": "execute_result"
    }
   ],
   "source": [
    "pd.crosstab(data.education_num, data.education)"
   ]
  },
  {
   "cell_type": "code",
   "execution_count": 367,
   "metadata": {},
   "outputs": [
    {
     "data": {
      "text/plain": [
       "education_num  education   \n",
       "1              Preschool         46\n",
       "2              1st-4th          156\n",
       "3              5th-6th          303\n",
       "4              7th-8th          574\n",
       "5              9th              463\n",
       "6              10th             833\n",
       "7              11th            1057\n",
       "8              12th             393\n",
       "9              HS-grad         9969\n",
       "10             Some-college    6777\n",
       "11             Assoc-voc       1321\n",
       "12             Assoc-acdm      1020\n",
       "13             Bachelors       5182\n",
       "14             Masters         1675\n",
       "15             Prof-school      558\n",
       "16             Doctorate        398\n",
       "dtype: int64"
      ]
     },
     "execution_count": 367,
     "metadata": {},
     "output_type": "execute_result"
    }
   ],
   "source": [
    "data.groupby(['education_num', 'education']).size()"
   ]
  },
  {
   "cell_type": "markdown",
   "metadata": {},
   "source": [
    "Berdasarkan data diatas dapat disimpulkan bahwa education_num adalah hasil encoding dari education dalam arti lain education sudah dikelompokan berdasarkan tingkatannya dan direpresentatifkan dengan education_num, sehingga pada tahap preprocessing kolom **education** akan di **drop**"
   ]
  },
  {
   "cell_type": "code",
   "execution_count": 368,
   "metadata": {},
   "outputs": [
    {
     "data": {
      "image/png": "[encoded data removed]",
      "text/plain": [
       "<Figure size 1500x500 with 2 Axes>"
      ]
     },
     "metadata": {},
     "output_type": "display_data"
    },
    {
     "name": "stdout",
     "output_type": "stream",
     "text": [
      "\n",
      "Skewness Value :  -0.31025823520678597\n"
     ]
    }
   ],
   "source": [
    "histogram_plot(data, 'education_num')"
   ]
  },
  {
   "cell_type": "markdown",
   "metadata": {},
   "source": [
    "Education terbanyak didata ini adalah HS-grad. \n",
    "\n",
    "Distribusi pada kolom 'education' cenderung normal dilihat dari nilai skewnessnya yaitu -0.31.\n",
    "Terdapat outlier pada sisi kiri atau bawah, akan di handle pada proses **preprocessing** "
   ]
  },
  {
   "cell_type": "markdown",
   "metadata": {},
   "source": [
    "### Capital gain"
   ]
  },
  {
   "cell_type": "code",
   "execution_count": 369,
   "metadata": {},
   "outputs": [
    {
     "name": "stdout",
     "output_type": "stream",
     "text": [
      "Number of unique values in capital_gain: 118\n",
      "Uniqe values in capital_gain: [    0 15024 99999  3137  1455  5556  7298  2885  1055   594   991  2202\n",
      " 13550 10520  2414  3103  7688  3908  3818  3325  8614  2174  6497  2964\n",
      "  1424  5013  5178  9386  4934 15831 27828  4650  4386  4787  3411  2635\n",
      "  3464  1173  4931 20051  2597 14344 25236 14084 18481  2907  2354  2936\n",
      "  1409  2407  6849  4416  1797  6418  3942  4508  2829  3456  2062  6514\n",
      " 34095  4064  2176  2228  2290  1848 10605  2329  2346  2580  3781  3674\n",
      "  3273  2653   114  6360  2036  3471  1639  3432  2050  6767   401 41310\n",
      "  6723  3418  5060  1151  4865  5455  1831  1471  3887  7443  2977  4687\n",
      "  4101  7978  2463  1506 10566  2961  7430  2105   914  5721  2009  2993\n",
      "  7896  9562 15020  6097 22040  2387  2538 11678 25124  1086]\n"
     ]
    }
   ],
   "source": [
    "print(f'Number of unique values in capital_gain: {data.capital_gain.nunique()}')\n",
    "print(f'Uniqe values in capital_gain: {data.capital_gain.unique()}')"
   ]
  },
  {
   "cell_type": "code",
   "execution_count": 370,
   "metadata": {},
   "outputs": [
    {
     "data": {
      "image/png": "[encoded data removed]",
      "text/plain": [
       "<Figure size 1500x500 with 2 Axes>"
      ]
     },
     "metadata": {},
     "output_type": "display_data"
    },
    {
     "name": "stdout",
     "output_type": "stream",
     "text": [
      "\n",
      "Skewness Value :  11.787236833566169\n"
     ]
    }
   ],
   "source": [
    "histogram_plot(data, 'capital_gain')"
   ]
  },
  {
   "cell_type": "markdown",
   "metadata": {},
   "source": [
    "Hampir semua orang tidak memiliki capital_gain, hanya sebagian kecil yang memiliki hal ini menjadikan data sangat banyak outlier. Karena model regresi dan svm sensitif terhadap outlier sehingga saya memutuskan untuk **tidak menggunakan** data ini karena akan sangat mempengaruhi model"
   ]
  },
  {
   "cell_type": "markdown",
   "metadata": {},
   "source": [
    "### Capital Loss"
   ]
  },
  {
   "cell_type": "code",
   "execution_count": 371,
   "metadata": {},
   "outputs": [
    {
     "name": "stdout",
     "output_type": "stream",
     "text": [
      "Number of unique values in capital_gain: 118\n",
      "Uniqe values in capital_gain: [    0 15024 99999  3137  1455  5556  7298  2885  1055   594   991  2202\n",
      " 13550 10520  2414  3103  7688  3908  3818  3325  8614  2174  6497  2964\n",
      "  1424  5013  5178  9386  4934 15831 27828  4650  4386  4787  3411  2635\n",
      "  3464  1173  4931 20051  2597 14344 25236 14084 18481  2907  2354  2936\n",
      "  1409  2407  6849  4416  1797  6418  3942  4508  2829  3456  2062  6514\n",
      " 34095  4064  2176  2228  2290  1848 10605  2329  2346  2580  3781  3674\n",
      "  3273  2653   114  6360  2036  3471  1639  3432  2050  6767   401 41310\n",
      "  6723  3418  5060  1151  4865  5455  1831  1471  3887  7443  2977  4687\n",
      "  4101  7978  2463  1506 10566  2961  7430  2105   914  5721  2009  2993\n",
      "  7896  9562 15020  6097 22040  2387  2538 11678 25124  1086]\n"
     ]
    }
   ],
   "source": [
    "print(f'Number of unique values in capital_gain: {data.capital_gain.nunique()}')\n",
    "print(f'Uniqe values in capital_gain: {data.capital_gain.unique()}')"
   ]
  },
  {
   "cell_type": "code",
   "execution_count": 372,
   "metadata": {},
   "outputs": [
    {
     "data": {
      "image/png": "[encoded data removed]",
      "text/plain": [
       "<Figure size 1500x500 with 2 Axes>"
      ]
     },
     "metadata": {},
     "output_type": "display_data"
    },
    {
     "name": "stdout",
     "output_type": "stream",
     "text": [
      "\n",
      "Skewness Value :  4.5149166709154676\n"
     ]
    }
   ],
   "source": [
    "histogram_plot(data, 'capital_loss')"
   ]
  },
  {
   "cell_type": "markdown",
   "metadata": {},
   "source": [
    "Sama seperti capital gain, banyak orang yang tidak memiliki capital_loss sehingga mengakibatkan banyaknya outlier dan data tidak normal distribusinya maka saya **tidak menggunakan** data ini."
   ]
  },
  {
   "cell_type": "markdown",
   "metadata": {},
   "source": [
    "### Hour Per Week"
   ]
  },
  {
   "cell_type": "code",
   "execution_count": 373,
   "metadata": {},
   "outputs": [
    {
     "name": "stdout",
     "output_type": "stream",
     "text": [
      "Number of unique values in capital_gain: 118\n",
      "Uniqe values in capital_gain: [    0 15024 99999  3137  1455  5556  7298  2885  1055   594   991  2202\n",
      " 13550 10520  2414  3103  7688  3908  3818  3325  8614  2174  6497  2964\n",
      "  1424  5013  5178  9386  4934 15831 27828  4650  4386  4787  3411  2635\n",
      "  3464  1173  4931 20051  2597 14344 25236 14084 18481  2907  2354  2936\n",
      "  1409  2407  6849  4416  1797  6418  3942  4508  2829  3456  2062  6514\n",
      " 34095  4064  2176  2228  2290  1848 10605  2329  2346  2580  3781  3674\n",
      "  3273  2653   114  6360  2036  3471  1639  3432  2050  6767   401 41310\n",
      "  6723  3418  5060  1151  4865  5455  1831  1471  3887  7443  2977  4687\n",
      "  4101  7978  2463  1506 10566  2961  7430  2105   914  5721  2009  2993\n",
      "  7896  9562 15020  6097 22040  2387  2538 11678 25124  1086]\n"
     ]
    }
   ],
   "source": [
    "print(f'Number of unique values in capital_gain: {data.capital_gain.nunique()}')\n",
    "print(f'Uniqe values in capital_gain: {data.capital_gain.unique()}')"
   ]
  },
  {
   "cell_type": "code",
   "execution_count": 374,
   "metadata": {},
   "outputs": [
    {
     "data": {
      "image/png": "[encoded data removed]",
      "text/plain": [
       "<Figure size 1500x500 with 2 Axes>"
      ]
     },
     "metadata": {},
     "output_type": "display_data"
    },
    {
     "name": "stdout",
     "output_type": "stream",
     "text": [
      "\n",
      "Skewness Value :  0.3307490496608131\n"
     ]
    }
   ],
   "source": [
    "histogram_plot(data, 'hours_per_week')"
   ]
  },
  {
   "cell_type": "code",
   "execution_count": 375,
   "metadata": {},
   "outputs": [
    {
     "data": {
      "text/plain": [
       "<AxesSubplot: xlabel='hours_per_week', ylabel='count'>"
      ]
     },
     "execution_count": 375,
     "metadata": {},
     "output_type": "execute_result"
    },
    {
     "data": {
      "image/png": "[encoded data removed]",
      "text/plain": [
       "<Figure size 640x480 with 1 Axes>"
      ]
     },
     "metadata": {},
     "output_type": "display_data"
    }
   ],
   "source": [
    "sns.countplot(x='hours_per_week', hue='income_bracket', data=data)"
   ]
  },
  {
   "cell_type": "markdown",
   "metadata": {},
   "source": [
    "Dilihat pada data diatas hours_per_week tidak memiliki korelasi terhadap income_bracket karena semakin banyak jam kerja setiap minggunya tidak membuat semakin tinggi penghasilan. Data tidak normal dan memiliki banyak outlier."
   ]
  },
  {
   "cell_type": "markdown",
   "metadata": {},
   "source": [
    "### Workclass"
   ]
  },
  {
   "cell_type": "code",
   "execution_count": 376,
   "metadata": {},
   "outputs": [
    {
     "data": {
      "text/plain": [
       "array(['Never-worked', 'Private', 'Self-emp-not-inc', 'Self-emp-inc',\n",
       "       'State-gov', 'Federal-gov', 'Local-gov', 'Without-pay'],\n",
       "      dtype=object)"
      ]
     },
     "execution_count": 376,
     "metadata": {},
     "output_type": "execute_result"
    }
   ],
   "source": [
    "data.workclass.unique()"
   ]
  },
  {
   "cell_type": "code",
   "execution_count": 377,
   "metadata": {},
   "outputs": [
    {
     "data": {
      "text/plain": [
       "<AxesSubplot: xlabel='count', ylabel='workclass'>"
      ]
     },
     "execution_count": 377,
     "metadata": {},
     "output_type": "execute_result"
    },
    {
     "data": {
      "image/png": "[encoded data removed]",
      "text/plain": [
       "<Figure size 640x480 with 1 Axes>"
      ]
     },
     "metadata": {},
     "output_type": "display_data"
    }
   ],
   "source": [
    "sns.countplot(y='workclass', hue='income_bracket', data=data)"
   ]
  },
  {
   "cell_type": "markdown",
   "metadata": {},
   "source": [
    "Workclass terbanyak yaitu private dan penghasil lebih dari 50.000 berada di kelas privat"
   ]
  },
  {
   "cell_type": "markdown",
   "metadata": {},
   "source": [
    "### Occupation"
   ]
  },
  {
   "cell_type": "code",
   "execution_count": 378,
   "metadata": {},
   "outputs": [
    {
     "data": {
      "text/plain": [
       "array(['?', 'Sales', 'Adm-clerical', 'Armed-Forces', 'Craft-repair',\n",
       "       'Tech-support', 'Other-service', 'Prof-specialty',\n",
       "       'Exec-managerial', 'Farming-fishing', 'Priv-house-serv',\n",
       "       'Protective-serv', 'Transport-moving', 'Handlers-cleaners',\n",
       "       'Machine-op-inspct'], dtype=object)"
      ]
     },
     "execution_count": 378,
     "metadata": {},
     "output_type": "execute_result"
    }
   ],
   "source": [
    "data.occupation.unique()"
   ]
  },
  {
   "cell_type": "code",
   "execution_count": 379,
   "metadata": {},
   "outputs": [
    {
     "data": {
      "text/plain": [
       "<AxesSubplot: xlabel='count', ylabel='occupation'>"
      ]
     },
     "execution_count": 379,
     "metadata": {},
     "output_type": "execute_result"
    },
    {
     "data": {
      "image/png": "[encoded data removed]",
      "text/plain": [
       "<Figure size 640x480 with 1 Axes>"
      ]
     },
     "metadata": {},
     "output_type": "display_data"
    }
   ],
   "source": [
    "sns.countplot(y='occupation', hue='income_bracket', data=data)"
   ]
  },
  {
   "cell_type": "markdown",
   "metadata": {},
   "source": [
    "Pada occupation pekerjaan paling banyak adalah craft-repair dan other service namun hal ini tidak menjadi jenis pekerjaan yang paling banyak menghasilkan penghasilan lebih dari 50K"
   ]
  },
  {
   "cell_type": "markdown",
   "metadata": {},
   "source": [
    "### Sex"
   ]
  },
  {
   "cell_type": "code",
   "execution_count": 380,
   "metadata": {},
   "outputs": [
    {
     "data": {
      "text/plain": [
       "<AxesSubplot: xlabel='count', ylabel='sex'>"
      ]
     },
     "execution_count": 380,
     "metadata": {},
     "output_type": "execute_result"
    },
    {
     "data": {
      "image/png": "[encoded data removed]",
      "text/plain": [
       "<Figure size 640x480 with 1 Axes>"
      ]
     },
     "metadata": {},
     "output_type": "display_data"
    }
   ],
   "source": [
    "sns.countplot(y='sex', hue='income_bracket', data=data)"
   ]
  },
  {
   "cell_type": "markdown",
   "metadata": {},
   "source": [
    "Penghasilan lebih dari 50K paling banyak diperoleh laki-laki"
   ]
  },
  {
   "cell_type": "markdown",
   "metadata": {},
   "source": [
    "# 5 - Data Preprocessing"
   ]
  },
  {
   "cell_type": "markdown",
   "metadata": {},
   "source": [
    "## Get Data for Model Inference"
   ]
  },
  {
   "cell_type": "markdown",
   "metadata": {},
   "source": [
    "Dikarenakan memiliki keterbatasan data sehingga kita akan memisahkan model inference yang nantinya akan digunakan untuk test model"
   ]
  },
  {
   "cell_type": "code",
   "execution_count": 381,
   "metadata": {},
   "outputs": [
    {
     "data": {
      "text/html": [
       "<div>\n",
       "<style scoped>\n",
       "    .dataframe tbody tr th:only-of-type {\n",
       "        vertical-align: middle;\n",
       "    }\n",
       "\n",
       "    .dataframe tbody tr th {\n",
       "        vertical-align: top;\n",
       "    }\n",
       "\n",
       "    .dataframe thead th {\n",
       "        text-align: right;\n",
       "    }\n",
       "</style>\n",
       "<table border=\"1\" class=\"dataframe\">\n",
       "  <thead>\n",
       "    <tr style=\"text-align: right;\">\n",
       "      <th></th>\n",
       "      <th>age</th>\n",
       "      <th>workclass</th>\n",
       "      <th>education</th>\n",
       "      <th>education_num</th>\n",
       "      <th>marital_status</th>\n",
       "      <th>occupation</th>\n",
       "      <th>relationship</th>\n",
       "      <th>race</th>\n",
       "      <th>sex</th>\n",
       "      <th>capital_gain</th>\n",
       "      <th>capital_loss</th>\n",
       "      <th>hours_per_week</th>\n",
       "      <th>native_country</th>\n",
       "      <th>income_bracket</th>\n",
       "    </tr>\n",
       "  </thead>\n",
       "  <tbody>\n",
       "    <tr>\n",
       "      <th>8779</th>\n",
       "      <td>25</td>\n",
       "      <td>Private</td>\n",
       "      <td>Assoc-acdm</td>\n",
       "      <td>12</td>\n",
       "      <td>Never-married</td>\n",
       "      <td>Sales</td>\n",
       "      <td>Own-child</td>\n",
       "      <td>White</td>\n",
       "      <td>Female</td>\n",
       "      <td>0</td>\n",
       "      <td>0</td>\n",
       "      <td>40</td>\n",
       "      <td>Peru</td>\n",
       "      <td>&lt;=50K</td>\n",
       "    </tr>\n",
       "    <tr>\n",
       "      <th>11007</th>\n",
       "      <td>43</td>\n",
       "      <td>Private</td>\n",
       "      <td>Bachelors</td>\n",
       "      <td>13</td>\n",
       "      <td>Divorced</td>\n",
       "      <td>Adm-clerical</td>\n",
       "      <td>Not-in-family</td>\n",
       "      <td>White</td>\n",
       "      <td>Female</td>\n",
       "      <td>0</td>\n",
       "      <td>0</td>\n",
       "      <td>40</td>\n",
       "      <td>United-States</td>\n",
       "      <td>&lt;=50K</td>\n",
       "    </tr>\n",
       "    <tr>\n",
       "      <th>19616</th>\n",
       "      <td>59</td>\n",
       "      <td>Local-gov</td>\n",
       "      <td>HS-grad</td>\n",
       "      <td>9</td>\n",
       "      <td>Separated</td>\n",
       "      <td>Protective-serv</td>\n",
       "      <td>Unmarried</td>\n",
       "      <td>Black</td>\n",
       "      <td>Female</td>\n",
       "      <td>0</td>\n",
       "      <td>0</td>\n",
       "      <td>40</td>\n",
       "      <td>United-States</td>\n",
       "      <td>&lt;=50K</td>\n",
       "    </tr>\n",
       "    <tr>\n",
       "      <th>5883</th>\n",
       "      <td>61</td>\n",
       "      <td>Private</td>\n",
       "      <td>11th</td>\n",
       "      <td>7</td>\n",
       "      <td>Widowed</td>\n",
       "      <td>Handlers-cleaners</td>\n",
       "      <td>Not-in-family</td>\n",
       "      <td>White</td>\n",
       "      <td>Female</td>\n",
       "      <td>0</td>\n",
       "      <td>0</td>\n",
       "      <td>30</td>\n",
       "      <td>United-States</td>\n",
       "      <td>&lt;=50K</td>\n",
       "    </tr>\n",
       "    <tr>\n",
       "      <th>25147</th>\n",
       "      <td>36</td>\n",
       "      <td>Private</td>\n",
       "      <td>Assoc-acdm</td>\n",
       "      <td>12</td>\n",
       "      <td>Divorced</td>\n",
       "      <td>Exec-managerial</td>\n",
       "      <td>Not-in-family</td>\n",
       "      <td>White</td>\n",
       "      <td>Male</td>\n",
       "      <td>0</td>\n",
       "      <td>0</td>\n",
       "      <td>48</td>\n",
       "      <td>United-States</td>\n",
       "      <td>&lt;=50K</td>\n",
       "    </tr>\n",
       "    <tr>\n",
       "      <th>24533</th>\n",
       "      <td>47</td>\n",
       "      <td>Private</td>\n",
       "      <td>HS-grad</td>\n",
       "      <td>9</td>\n",
       "      <td>Widowed</td>\n",
       "      <td>Priv-house-serv</td>\n",
       "      <td>Not-in-family</td>\n",
       "      <td>Asian-Pac-Islander</td>\n",
       "      <td>Female</td>\n",
       "      <td>0</td>\n",
       "      <td>0</td>\n",
       "      <td>45</td>\n",
       "      <td>Thailand</td>\n",
       "      <td>&lt;=50K</td>\n",
       "    </tr>\n",
       "    <tr>\n",
       "      <th>28451</th>\n",
       "      <td>29</td>\n",
       "      <td>Private</td>\n",
       "      <td>Prof-school</td>\n",
       "      <td>15</td>\n",
       "      <td>Never-married</td>\n",
       "      <td>Prof-specialty</td>\n",
       "      <td>Not-in-family</td>\n",
       "      <td>White</td>\n",
       "      <td>Female</td>\n",
       "      <td>0</td>\n",
       "      <td>0</td>\n",
       "      <td>55</td>\n",
       "      <td>United-States</td>\n",
       "      <td>&lt;=50K</td>\n",
       "    </tr>\n",
       "    <tr>\n",
       "      <th>785</th>\n",
       "      <td>23</td>\n",
       "      <td>State-gov</td>\n",
       "      <td>Bachelors</td>\n",
       "      <td>13</td>\n",
       "      <td>Never-married</td>\n",
       "      <td>Tech-support</td>\n",
       "      <td>Not-in-family</td>\n",
       "      <td>White</td>\n",
       "      <td>Male</td>\n",
       "      <td>0</td>\n",
       "      <td>0</td>\n",
       "      <td>22</td>\n",
       "      <td>United-States</td>\n",
       "      <td>&lt;=50K</td>\n",
       "    </tr>\n",
       "    <tr>\n",
       "      <th>20876</th>\n",
       "      <td>21</td>\n",
       "      <td>Private</td>\n",
       "      <td>HS-grad</td>\n",
       "      <td>9</td>\n",
       "      <td>Never-married</td>\n",
       "      <td>Handlers-cleaners</td>\n",
       "      <td>Own-child</td>\n",
       "      <td>White</td>\n",
       "      <td>Male</td>\n",
       "      <td>0</td>\n",
       "      <td>0</td>\n",
       "      <td>40</td>\n",
       "      <td>United-States</td>\n",
       "      <td>&lt;=50K</td>\n",
       "    </tr>\n",
       "    <tr>\n",
       "      <th>9784</th>\n",
       "      <td>45</td>\n",
       "      <td>Local-gov</td>\n",
       "      <td>Some-college</td>\n",
       "      <td>10</td>\n",
       "      <td>Married-civ-spouse</td>\n",
       "      <td>Adm-clerical</td>\n",
       "      <td>Husband</td>\n",
       "      <td>White</td>\n",
       "      <td>Male</td>\n",
       "      <td>0</td>\n",
       "      <td>0</td>\n",
       "      <td>40</td>\n",
       "      <td>United-States</td>\n",
       "      <td>&gt;50K</td>\n",
       "    </tr>\n",
       "  </tbody>\n",
       "</table>\n",
       "</div>"
      ],
      "text/plain": [
       "       age  workclass     education  education_num      marital_status  \\\n",
       "8779    25    Private    Assoc-acdm             12       Never-married   \n",
       "11007   43    Private     Bachelors             13            Divorced   \n",
       "19616   59  Local-gov       HS-grad              9           Separated   \n",
       "5883    61    Private          11th              7             Widowed   \n",
       "25147   36    Private    Assoc-acdm             12            Divorced   \n",
       "24533   47    Private       HS-grad              9             Widowed   \n",
       "28451   29    Private   Prof-school             15       Never-married   \n",
       "785     23  State-gov     Bachelors             13       Never-married   \n",
       "20876   21    Private       HS-grad              9       Never-married   \n",
       "9784    45  Local-gov  Some-college             10  Married-civ-spouse   \n",
       "\n",
       "              occupation   relationship                race     sex  \\\n",
       "8779               Sales      Own-child               White  Female   \n",
       "11007       Adm-clerical  Not-in-family               White  Female   \n",
       "19616    Protective-serv      Unmarried               Black  Female   \n",
       "5883   Handlers-cleaners  Not-in-family               White  Female   \n",
       "25147    Exec-managerial  Not-in-family               White    Male   \n",
       "24533    Priv-house-serv  Not-in-family  Asian-Pac-Islander  Female   \n",
       "28451     Prof-specialty  Not-in-family               White  Female   \n",
       "785         Tech-support  Not-in-family               White    Male   \n",
       "20876  Handlers-cleaners      Own-child               White    Male   \n",
       "9784        Adm-clerical        Husband               White    Male   \n",
       "\n",
       "       capital_gain  capital_loss  hours_per_week native_country  \\\n",
       "8779              0             0              40           Peru   \n",
       "11007             0             0              40  United-States   \n",
       "19616             0             0              40  United-States   \n",
       "5883              0             0              30  United-States   \n",
       "25147             0             0              48  United-States   \n",
       "24533             0             0              45       Thailand   \n",
       "28451             0             0              55  United-States   \n",
       "785               0             0              22  United-States   \n",
       "20876             0             0              40  United-States   \n",
       "9784              0             0              40  United-States   \n",
       "\n",
       "      income_bracket  \n",
       "8779           <=50K  \n",
       "11007          <=50K  \n",
       "19616          <=50K  \n",
       "5883           <=50K  \n",
       "25147          <=50K  \n",
       "24533          <=50K  \n",
       "28451          <=50K  \n",
       "785            <=50K  \n",
       "20876          <=50K  \n",
       "9784            >50K  "
      ]
     },
     "execution_count": 381,
     "metadata": {},
     "output_type": "execute_result"
    }
   ],
   "source": [
    "data_inf = data.sample(10, random_state=15)\n",
    "data_inf"
   ]
  },
  {
   "cell_type": "markdown",
   "metadata": {},
   "source": [
    "seteleha mendapatkan data inference langkah selanjutnya kita akan merevo data inference"
   ]
  },
  {
   "cell_type": "code",
   "execution_count": 382,
   "metadata": {},
   "outputs": [],
   "source": [
    "data_train_test = data.drop(data_inf.index)"
   ]
  },
  {
   "cell_type": "markdown",
   "metadata": {},
   "source": [
    "Kita sudah berhasil meremove data inference dari data sehingga jumlah bari sebelumnya adalah 30725 menjadi 30715 baris"
   ]
  },
  {
   "cell_type": "markdown",
   "metadata": {},
   "source": [
    "selanjutnya kita akan mereset index untuk meminimalisir hal-hal yang tidak diinginkan dikemudian hari"
   ]
  },
  {
   "cell_type": "code",
   "execution_count": 383,
   "metadata": {},
   "outputs": [],
   "source": [
    "data_train_test.reset_index(drop=True, inplace=True)\n",
    "data_inf.reset_index(drop=True, inplace=True)"
   ]
  },
  {
   "cell_type": "markdown",
   "metadata": {},
   "source": [
    "## Split Data\n",
    "\n",
    "Membuat training set dan test set dengan perbandingan 8:2, dimana:\n",
    "- 80% data menjadi **training set**\n",
    "- 20% data menjadi **test set**"
   ]
  },
  {
   "cell_type": "code",
   "execution_count": 384,
   "metadata": {},
   "outputs": [
    {
     "data": {
      "text/html": [
       "<div>\n",
       "<style scoped>\n",
       "    .dataframe tbody tr th:only-of-type {\n",
       "        vertical-align: middle;\n",
       "    }\n",
       "\n",
       "    .dataframe tbody tr th {\n",
       "        vertical-align: top;\n",
       "    }\n",
       "\n",
       "    .dataframe thead th {\n",
       "        text-align: right;\n",
       "    }\n",
       "</style>\n",
       "<table border=\"1\" class=\"dataframe\">\n",
       "  <thead>\n",
       "    <tr style=\"text-align: right;\">\n",
       "      <th></th>\n",
       "      <th>age</th>\n",
       "      <th>workclass</th>\n",
       "      <th>education</th>\n",
       "      <th>education_num</th>\n",
       "      <th>marital_status</th>\n",
       "      <th>occupation</th>\n",
       "      <th>relationship</th>\n",
       "      <th>race</th>\n",
       "      <th>sex</th>\n",
       "      <th>capital_gain</th>\n",
       "      <th>capital_loss</th>\n",
       "      <th>hours_per_week</th>\n",
       "      <th>native_country</th>\n",
       "      <th>income_bracket</th>\n",
       "    </tr>\n",
       "  </thead>\n",
       "  <tbody>\n",
       "    <tr>\n",
       "      <th>22959</th>\n",
       "      <td>54</td>\n",
       "      <td>Private</td>\n",
       "      <td>Some-college</td>\n",
       "      <td>10</td>\n",
       "      <td>Married-civ-spouse</td>\n",
       "      <td>Exec-managerial</td>\n",
       "      <td>Husband</td>\n",
       "      <td>White</td>\n",
       "      <td>Male</td>\n",
       "      <td>0</td>\n",
       "      <td>0</td>\n",
       "      <td>44</td>\n",
       "      <td>United-States</td>\n",
       "      <td>&gt;50K</td>\n",
       "    </tr>\n",
       "    <tr>\n",
       "      <th>16087</th>\n",
       "      <td>28</td>\n",
       "      <td>Private</td>\n",
       "      <td>Bachelors</td>\n",
       "      <td>13</td>\n",
       "      <td>Married-civ-spouse</td>\n",
       "      <td>Prof-specialty</td>\n",
       "      <td>Husband</td>\n",
       "      <td>White</td>\n",
       "      <td>Male</td>\n",
       "      <td>0</td>\n",
       "      <td>0</td>\n",
       "      <td>40</td>\n",
       "      <td>United-States</td>\n",
       "      <td>&gt;50K</td>\n",
       "    </tr>\n",
       "    <tr>\n",
       "      <th>4418</th>\n",
       "      <td>19</td>\n",
       "      <td>Private</td>\n",
       "      <td>Some-college</td>\n",
       "      <td>10</td>\n",
       "      <td>Never-married</td>\n",
       "      <td>Sales</td>\n",
       "      <td>Own-child</td>\n",
       "      <td>Amer-Indian-Eskimo</td>\n",
       "      <td>Female</td>\n",
       "      <td>0</td>\n",
       "      <td>1721</td>\n",
       "      <td>25</td>\n",
       "      <td>United-States</td>\n",
       "      <td>&lt;=50K</td>\n",
       "    </tr>\n",
       "    <tr>\n",
       "      <th>18738</th>\n",
       "      <td>45</td>\n",
       "      <td>Local-gov</td>\n",
       "      <td>Bachelors</td>\n",
       "      <td>13</td>\n",
       "      <td>Never-married</td>\n",
       "      <td>Exec-managerial</td>\n",
       "      <td>Not-in-family</td>\n",
       "      <td>White</td>\n",
       "      <td>Male</td>\n",
       "      <td>0</td>\n",
       "      <td>0</td>\n",
       "      <td>40</td>\n",
       "      <td>United-States</td>\n",
       "      <td>&lt;=50K</td>\n",
       "    </tr>\n",
       "    <tr>\n",
       "      <th>23760</th>\n",
       "      <td>40</td>\n",
       "      <td>Private</td>\n",
       "      <td>Some-college</td>\n",
       "      <td>10</td>\n",
       "      <td>Divorced</td>\n",
       "      <td>Other-service</td>\n",
       "      <td>Not-in-family</td>\n",
       "      <td>White</td>\n",
       "      <td>Male</td>\n",
       "      <td>0</td>\n",
       "      <td>0</td>\n",
       "      <td>45</td>\n",
       "      <td>United-States</td>\n",
       "      <td>&lt;=50K</td>\n",
       "    </tr>\n",
       "    <tr>\n",
       "      <th>...</th>\n",
       "      <td>...</td>\n",
       "      <td>...</td>\n",
       "      <td>...</td>\n",
       "      <td>...</td>\n",
       "      <td>...</td>\n",
       "      <td>...</td>\n",
       "      <td>...</td>\n",
       "      <td>...</td>\n",
       "      <td>...</td>\n",
       "      <td>...</td>\n",
       "      <td>...</td>\n",
       "      <td>...</td>\n",
       "      <td>...</td>\n",
       "      <td>...</td>\n",
       "    </tr>\n",
       "    <tr>\n",
       "      <th>16247</th>\n",
       "      <td>33</td>\n",
       "      <td>Private</td>\n",
       "      <td>Doctorate</td>\n",
       "      <td>16</td>\n",
       "      <td>Married-civ-spouse</td>\n",
       "      <td>Prof-specialty</td>\n",
       "      <td>Husband</td>\n",
       "      <td>White</td>\n",
       "      <td>Male</td>\n",
       "      <td>0</td>\n",
       "      <td>0</td>\n",
       "      <td>40</td>\n",
       "      <td>United-States</td>\n",
       "      <td>&lt;=50K</td>\n",
       "    </tr>\n",
       "    <tr>\n",
       "      <th>2693</th>\n",
       "      <td>20</td>\n",
       "      <td>Private</td>\n",
       "      <td>Some-college</td>\n",
       "      <td>10</td>\n",
       "      <td>Never-married</td>\n",
       "      <td>Tech-support</td>\n",
       "      <td>Own-child</td>\n",
       "      <td>White</td>\n",
       "      <td>Male</td>\n",
       "      <td>0</td>\n",
       "      <td>0</td>\n",
       "      <td>15</td>\n",
       "      <td>United-States</td>\n",
       "      <td>&lt;=50K</td>\n",
       "    </tr>\n",
       "    <tr>\n",
       "      <th>8076</th>\n",
       "      <td>36</td>\n",
       "      <td>Self-emp-not-inc</td>\n",
       "      <td>HS-grad</td>\n",
       "      <td>9</td>\n",
       "      <td>Married-civ-spouse</td>\n",
       "      <td>Sales</td>\n",
       "      <td>Wife</td>\n",
       "      <td>White</td>\n",
       "      <td>Female</td>\n",
       "      <td>7688</td>\n",
       "      <td>0</td>\n",
       "      <td>40</td>\n",
       "      <td>United-States</td>\n",
       "      <td>&gt;50K</td>\n",
       "    </tr>\n",
       "    <tr>\n",
       "      <th>20213</th>\n",
       "      <td>23</td>\n",
       "      <td>Private</td>\n",
       "      <td>HS-grad</td>\n",
       "      <td>9</td>\n",
       "      <td>Never-married</td>\n",
       "      <td>Transport-moving</td>\n",
       "      <td>Own-child</td>\n",
       "      <td>White</td>\n",
       "      <td>Male</td>\n",
       "      <td>0</td>\n",
       "      <td>0</td>\n",
       "      <td>40</td>\n",
       "      <td>United-States</td>\n",
       "      <td>&lt;=50K</td>\n",
       "    </tr>\n",
       "    <tr>\n",
       "      <th>7624</th>\n",
       "      <td>55</td>\n",
       "      <td>Private</td>\n",
       "      <td>HS-grad</td>\n",
       "      <td>9</td>\n",
       "      <td>Widowed</td>\n",
       "      <td>Sales</td>\n",
       "      <td>Not-in-family</td>\n",
       "      <td>White</td>\n",
       "      <td>Female</td>\n",
       "      <td>0</td>\n",
       "      <td>0</td>\n",
       "      <td>38</td>\n",
       "      <td>United-States</td>\n",
       "      <td>&lt;=50K</td>\n",
       "    </tr>\n",
       "  </tbody>\n",
       "</table>\n",
       "<p>24580 rows × 14 columns</p>\n",
       "</div>"
      ],
      "text/plain": [
       "       age         workclass     education  education_num      marital_status  \\\n",
       "22959   54           Private  Some-college             10  Married-civ-spouse   \n",
       "16087   28           Private     Bachelors             13  Married-civ-spouse   \n",
       "4418    19           Private  Some-college             10       Never-married   \n",
       "18738   45         Local-gov     Bachelors             13       Never-married   \n",
       "23760   40           Private  Some-college             10            Divorced   \n",
       "...    ...               ...           ...            ...                 ...   \n",
       "16247   33           Private     Doctorate             16  Married-civ-spouse   \n",
       "2693    20           Private  Some-college             10       Never-married   \n",
       "8076    36  Self-emp-not-inc       HS-grad              9  Married-civ-spouse   \n",
       "20213   23           Private       HS-grad              9       Never-married   \n",
       "7624    55           Private       HS-grad              9             Widowed   \n",
       "\n",
       "             occupation   relationship                race     sex  \\\n",
       "22959   Exec-managerial        Husband               White    Male   \n",
       "16087    Prof-specialty        Husband               White    Male   \n",
       "4418              Sales      Own-child  Amer-Indian-Eskimo  Female   \n",
       "18738   Exec-managerial  Not-in-family               White    Male   \n",
       "23760     Other-service  Not-in-family               White    Male   \n",
       "...                 ...            ...                 ...     ...   \n",
       "16247    Prof-specialty        Husband               White    Male   \n",
       "2693       Tech-support      Own-child               White    Male   \n",
       "8076              Sales           Wife               White  Female   \n",
       "20213  Transport-moving      Own-child               White    Male   \n",
       "7624              Sales  Not-in-family               White  Female   \n",
       "\n",
       "       capital_gain  capital_loss  hours_per_week native_country  \\\n",
       "22959             0             0              44  United-States   \n",
       "16087             0             0              40  United-States   \n",
       "4418              0          1721              25  United-States   \n",
       "18738             0             0              40  United-States   \n",
       "23760             0             0              45  United-States   \n",
       "...             ...           ...             ...            ...   \n",
       "16247             0             0              40  United-States   \n",
       "2693              0             0              15  United-States   \n",
       "8076           7688             0              40  United-States   \n",
       "20213             0             0              40  United-States   \n",
       "7624              0             0              38  United-States   \n",
       "\n",
       "      income_bracket  \n",
       "22959           >50K  \n",
       "16087           >50K  \n",
       "4418           <=50K  \n",
       "18738          <=50K  \n",
       "23760          <=50K  \n",
       "...              ...  \n",
       "16247          <=50K  \n",
       "2693           <=50K  \n",
       "8076            >50K  \n",
       "20213          <=50K  \n",
       "7624           <=50K  \n",
       "\n",
       "[24580 rows x 14 columns]"
      ]
     },
     "execution_count": 384,
     "metadata": {},
     "output_type": "execute_result"
    }
   ],
   "source": [
    "df_train, df_test = train_test_split(data, test_size=0.2, random_state=15)\n",
    "df_train"
   ]
  },
  {
   "cell_type": "code",
   "execution_count": 385,
   "metadata": {},
   "outputs": [
    {
     "data": {
      "text/html": [
       "<div>\n",
       "<style scoped>\n",
       "    .dataframe tbody tr th:only-of-type {\n",
       "        vertical-align: middle;\n",
       "    }\n",
       "\n",
       "    .dataframe tbody tr th {\n",
       "        vertical-align: top;\n",
       "    }\n",
       "\n",
       "    .dataframe thead th {\n",
       "        text-align: right;\n",
       "    }\n",
       "</style>\n",
       "<table border=\"1\" class=\"dataframe\">\n",
       "  <thead>\n",
       "    <tr style=\"text-align: right;\">\n",
       "      <th></th>\n",
       "      <th>age</th>\n",
       "      <th>workclass</th>\n",
       "      <th>education</th>\n",
       "      <th>education_num</th>\n",
       "      <th>marital_status</th>\n",
       "      <th>occupation</th>\n",
       "      <th>relationship</th>\n",
       "      <th>race</th>\n",
       "      <th>sex</th>\n",
       "      <th>capital_gain</th>\n",
       "      <th>capital_loss</th>\n",
       "      <th>hours_per_week</th>\n",
       "      <th>native_country</th>\n",
       "      <th>income_bracket</th>\n",
       "    </tr>\n",
       "  </thead>\n",
       "  <tbody>\n",
       "    <tr>\n",
       "      <th>8779</th>\n",
       "      <td>25</td>\n",
       "      <td>Private</td>\n",
       "      <td>Assoc-acdm</td>\n",
       "      <td>12</td>\n",
       "      <td>Never-married</td>\n",
       "      <td>Sales</td>\n",
       "      <td>Own-child</td>\n",
       "      <td>White</td>\n",
       "      <td>Female</td>\n",
       "      <td>0</td>\n",
       "      <td>0</td>\n",
       "      <td>40</td>\n",
       "      <td>Peru</td>\n",
       "      <td>&lt;=50K</td>\n",
       "    </tr>\n",
       "    <tr>\n",
       "      <th>11007</th>\n",
       "      <td>43</td>\n",
       "      <td>Private</td>\n",
       "      <td>Bachelors</td>\n",
       "      <td>13</td>\n",
       "      <td>Divorced</td>\n",
       "      <td>Adm-clerical</td>\n",
       "      <td>Not-in-family</td>\n",
       "      <td>White</td>\n",
       "      <td>Female</td>\n",
       "      <td>0</td>\n",
       "      <td>0</td>\n",
       "      <td>40</td>\n",
       "      <td>United-States</td>\n",
       "      <td>&lt;=50K</td>\n",
       "    </tr>\n",
       "    <tr>\n",
       "      <th>19616</th>\n",
       "      <td>59</td>\n",
       "      <td>Local-gov</td>\n",
       "      <td>HS-grad</td>\n",
       "      <td>9</td>\n",
       "      <td>Separated</td>\n",
       "      <td>Protective-serv</td>\n",
       "      <td>Unmarried</td>\n",
       "      <td>Black</td>\n",
       "      <td>Female</td>\n",
       "      <td>0</td>\n",
       "      <td>0</td>\n",
       "      <td>40</td>\n",
       "      <td>United-States</td>\n",
       "      <td>&lt;=50K</td>\n",
       "    </tr>\n",
       "    <tr>\n",
       "      <th>5883</th>\n",
       "      <td>61</td>\n",
       "      <td>Private</td>\n",
       "      <td>11th</td>\n",
       "      <td>7</td>\n",
       "      <td>Widowed</td>\n",
       "      <td>Handlers-cleaners</td>\n",
       "      <td>Not-in-family</td>\n",
       "      <td>White</td>\n",
       "      <td>Female</td>\n",
       "      <td>0</td>\n",
       "      <td>0</td>\n",
       "      <td>30</td>\n",
       "      <td>United-States</td>\n",
       "      <td>&lt;=50K</td>\n",
       "    </tr>\n",
       "    <tr>\n",
       "      <th>25147</th>\n",
       "      <td>36</td>\n",
       "      <td>Private</td>\n",
       "      <td>Assoc-acdm</td>\n",
       "      <td>12</td>\n",
       "      <td>Divorced</td>\n",
       "      <td>Exec-managerial</td>\n",
       "      <td>Not-in-family</td>\n",
       "      <td>White</td>\n",
       "      <td>Male</td>\n",
       "      <td>0</td>\n",
       "      <td>0</td>\n",
       "      <td>48</td>\n",
       "      <td>United-States</td>\n",
       "      <td>&lt;=50K</td>\n",
       "    </tr>\n",
       "  </tbody>\n",
       "</table>\n",
       "</div>"
      ],
      "text/plain": [
       "       age  workclass   education  education_num marital_status  \\\n",
       "8779    25    Private  Assoc-acdm             12  Never-married   \n",
       "11007   43    Private   Bachelors             13       Divorced   \n",
       "19616   59  Local-gov     HS-grad              9      Separated   \n",
       "5883    61    Private        11th              7        Widowed   \n",
       "25147   36    Private  Assoc-acdm             12       Divorced   \n",
       "\n",
       "              occupation   relationship   race     sex  capital_gain  \\\n",
       "8779               Sales      Own-child  White  Female             0   \n",
       "11007       Adm-clerical  Not-in-family  White  Female             0   \n",
       "19616    Protective-serv      Unmarried  Black  Female             0   \n",
       "5883   Handlers-cleaners  Not-in-family  White  Female             0   \n",
       "25147    Exec-managerial  Not-in-family  White    Male             0   \n",
       "\n",
       "       capital_loss  hours_per_week native_country income_bracket  \n",
       "8779              0              40           Peru          <=50K  \n",
       "11007             0              40  United-States          <=50K  \n",
       "19616             0              40  United-States          <=50K  \n",
       "5883              0              30  United-States          <=50K  \n",
       "25147             0              48  United-States          <=50K  "
      ]
     },
     "execution_count": 385,
     "metadata": {},
     "output_type": "execute_result"
    }
   ],
   "source": [
    "df_test.head()"
   ]
  },
  {
   "cell_type": "markdown",
   "metadata": {},
   "source": [
    "## Handling Outlier"
   ]
  },
  {
   "cell_type": "markdown",
   "metadata": {},
   "source": [
    "### Age"
   ]
  },
  {
   "cell_type": "markdown",
   "metadata": {},
   "source": [
    "Pada saat EDA 'Age' terdeteksi skewed variabel sehingga akan di handling dengan metode **IQR**"
   ]
  },
  {
   "cell_type": "code",
   "execution_count": 386,
   "metadata": {},
   "outputs": [
    {
     "data": {
      "text/plain": [
       "(-0.5, 75.5)"
      ]
     },
     "execution_count": 386,
     "metadata": {},
     "output_type": "execute_result"
    }
   ],
   "source": [
    "IQR = df_train.age.quantile(0.75) - df_train.age.quantile(0.25)\n",
    "\n",
    "lower_boundary = df_train.age.quantile(0.25) - (IQR*1.5)\n",
    "upper_boundary = df_train.age.quantile(0.75) + (IQR*1.5)\n",
    "\n",
    "lower_boundary, upper_boundary"
   ]
  },
  {
   "cell_type": "code",
   "execution_count": 387,
   "metadata": {},
   "outputs": [
    {
     "name": "stdout",
     "output_type": "stream",
     "text": [
      "Total age : 24580\n",
      "Age lebih dari 75.5 : 142\n",
      "% Age lebih besar dari 75.5: 0.5777054515866558\n"
     ]
    }
   ],
   "source": [
    "print('Total age : {}'.format(len(df_train)))\n",
    "print('Age lebih dari 75.5 : {}'.format(len(df_train[df_train['age'] > upper_boundary])))\n",
    "print('% Age lebih besar dari 75.5: {}'.format(len(df_train[df_train['age'] > upper_boundary]) / len(df_train)*100))"
   ]
  },
  {
   "cell_type": "markdown",
   "metadata": {},
   "source": [
    "Batas atas outlier 75.5 dan batas bawah - 0.5. feature age tidak ada nilai negatif maka saya menghitung outlir hanya menggunakan batas atas ini sesuai dengan boxplot yang sudah dibuat yaitu hanya ada disisi atas / kanan. Karena persentase outlier yang kecil maka outlier akan di trim / menghilangkan"
   ]
  },
  {
   "cell_type": "code",
   "execution_count": 388,
   "metadata": {},
   "outputs": [],
   "source": [
    "df_train = df_train[(df_train.age > lower_boundary) & (df_train.age < upper_boundary)]"
   ]
  },
  {
   "cell_type": "markdown",
   "metadata": {},
   "source": [
    "Setelah menghilangkan outlier mari kita lihat visual setelah trimming"
   ]
  },
  {
   "cell_type": "code",
   "execution_count": 389,
   "metadata": {},
   "outputs": [
    {
     "data": {
      "image/png": "[encoded data removed]",
      "text/plain": [
       "<Figure size 1500x500 with 2 Axes>"
      ]
     },
     "metadata": {},
     "output_type": "display_data"
    },
    {
     "name": "stdout",
     "output_type": "stream",
     "text": [
      "\n",
      "Skewness Value :  0.4076650073058023\n"
     ]
    }
   ],
   "source": [
    "histogram_plot(df_train, 'age')"
   ]
  },
  {
   "cell_type": "code",
   "execution_count": 390,
   "metadata": {},
   "outputs": [
    {
     "data": {
      "text/plain": [
       "(24438, 14)"
      ]
     },
     "execution_count": 390,
     "metadata": {},
     "output_type": "execute_result"
    }
   ],
   "source": [
    "df_train.shape"
   ]
  },
  {
   "cell_type": "markdown",
   "metadata": {},
   "source": [
    "Setelah dilakukan penghilangan outlier jumlah baris dari data df_train menjadi 24438"
   ]
  },
  {
   "cell_type": "markdown",
   "metadata": {},
   "source": [
    "### Education Num"
   ]
  },
  {
   "cell_type": "markdown",
   "metadata": {},
   "source": [
    "Pada saat EDA 'Education_num' memilik distribusi normal maka akan kita handle outlier dengan metode **STD**"
   ]
  },
  {
   "cell_type": "code",
   "execution_count": 391,
   "metadata": {},
   "outputs": [
    {
     "data": {
      "text/plain": [
       "(2.4744770569414545, 17.817527198725948)"
      ]
     },
     "execution_count": 391,
     "metadata": {},
     "output_type": "execute_result"
    }
   ],
   "source": [
    "lower_boundary_edu = df_train.education_num.mean() - 3*df_train.education_num.std()\n",
    "upper_boundary_edu = df_train.education_num.mean() + 3*df_train.education_num.std()\n",
    "\n",
    "lower_boundary_edu, upper_boundary_edu\n"
   ]
  },
  {
   "cell_type": "code",
   "execution_count": 392,
   "metadata": {},
   "outputs": [
    {
     "name": "stdout",
     "output_type": "stream",
     "text": [
      "Total number of education_num: 24438\n",
      "Education_num with more than 17.8 (right end outliers) : 0\n",
      "Education_num with less than 2.4 (left end outliers.  : 164\n",
      "\n",
      "% right end outliers : 0.0\n",
      "% left end outliers  : 0.6710860135853998\n"
     ]
    }
   ],
   "source": [
    "print('Total number of education_num: {}'.format(len(df_train)))\n",
    "print('Education_num with more than 17.8 (right end outliers) : {}'.format(len(df_train[df_train['education_num'] > upper_boundary_edu])))\n",
    "print('Education_num with less than 2.4 (left end outliers.  : {}'.format(len(df_train[df_train['education_num'] < lower_boundary_edu])))\n",
    "print('')\n",
    "print('% right end outliers : {}'.format(len(df_train[df_train['education_num'] > upper_boundary_edu]) / len(df_train) * 100))\n",
    "print('% left end outliers  : {}'.format(len(df_train[df_train['education_num'] < lower_boundary_edu]) / len(df_train) * 100))"
   ]
  },
  {
   "cell_type": "markdown",
   "metadata": {},
   "source": [
    "Batas bawah dan atas outlier adalah 2 dan 17, kita memiliki 164 outlier dibatas bawah atau setara 0.67% dan tidak memiliki outlier atas hal ini sesuai dengan boxplot yang sudah dibuat. kita akan trimming data ini "
   ]
  },
  {
   "cell_type": "code",
   "execution_count": 393,
   "metadata": {},
   "outputs": [],
   "source": [
    "df_train = df_train[(df_train.education_num > lower_boundary_edu) & (df_train.education_num < upper_boundary_edu)]"
   ]
  },
  {
   "cell_type": "markdown",
   "metadata": {},
   "source": [
    "Data sudah di trimming kita lihat visualnya"
   ]
  },
  {
   "cell_type": "code",
   "execution_count": 394,
   "metadata": {},
   "outputs": [
    {
     "data": {
      "image/png": "[encoded data removed]",
      "text/plain": [
       "<Figure size 1500x500 with 2 Axes>"
      ]
     },
     "metadata": {},
     "output_type": "display_data"
    },
    {
     "name": "stdout",
     "output_type": "stream",
     "text": [
      "\n",
      "Skewness Value :  -0.14758497158734932\n"
     ]
    }
   ],
   "source": [
    "histogram_plot(df_train, 'education_num')"
   ]
  },
  {
   "cell_type": "markdown",
   "metadata": {},
   "source": [
    "Conclusion:\n",
    "\n",
    "- Terdapat 5 data yang memiliki outlier yaitu feature age, education_num, capital_gain, capital_loss dan hours_per_week\n",
    "- Handling outlier hanya untuk feature age dan education_num\n",
    "- Capital_gain, Capital_Loss dan Hours_per_week tidak di handle karena memiliki banyak outlier yang apabila kita remove kita akan kehilangan banyak data dan jika kita ganti mean dan median akan sangat mempengaruhi nilai data tersebut"
   ]
  },
  {
   "cell_type": "markdown",
   "metadata": {},
   "source": [
    "## Handling Missing Value"
   ]
  },
  {
   "cell_type": "code",
   "execution_count": 395,
   "metadata": {},
   "outputs": [
    {
     "data": {
      "text/plain": [
       "age               0\n",
       "workclass         0\n",
       "education         0\n",
       "education_num     0\n",
       "marital_status    0\n",
       "occupation        0\n",
       "relationship      0\n",
       "race              0\n",
       "sex               0\n",
       "capital_gain      0\n",
       "capital_loss      0\n",
       "hours_per_week    0\n",
       "native_country    0\n",
       "income_bracket    0\n",
       "dtype: int64"
      ]
     },
     "execution_count": 395,
     "metadata": {},
     "output_type": "execute_result"
    }
   ],
   "source": [
    "df_train.isna().sum()"
   ]
  },
  {
   "cell_type": "code",
   "execution_count": 396,
   "metadata": {},
   "outputs": [
    {
     "data": {
      "text/plain": [
       "age               0\n",
       "workclass         0\n",
       "education         0\n",
       "education_num     0\n",
       "marital_status    0\n",
       "occupation        0\n",
       "relationship      0\n",
       "race              0\n",
       "sex               0\n",
       "capital_gain      0\n",
       "capital_loss      0\n",
       "hours_per_week    0\n",
       "native_country    0\n",
       "income_bracket    0\n",
       "dtype: int64"
      ]
     },
     "execution_count": 396,
     "metadata": {},
     "output_type": "execute_result"
    }
   ],
   "source": [
    "df_test.isna().sum()"
   ]
  },
  {
   "cell_type": "markdown",
   "metadata": {},
   "source": [
    "Tidak ada missing value"
   ]
  },
  {
   "cell_type": "markdown",
   "metadata": {},
   "source": [
    "### Split between Numerical Columns and Categorical Columns"
   ]
  },
  {
   "cell_type": "markdown",
   "metadata": {},
   "source": [
    "Sebelum memisahkan kolom Numeric dan Categoric saya akan memisahkan antara X dan y"
   ]
  },
  {
   "cell_type": "code",
   "execution_count": 432,
   "metadata": {},
   "outputs": [],
   "source": [
    "df_train['income_bracket'] = df_train['income_bracket'].map({'>50K': 1, '<=50K': 0})\n",
    "df_test['income_bracket'] = df_test['income_bracket'].map({'>50K': 1, '<=50K': 0})"
   ]
  },
  {
   "cell_type": "code",
   "execution_count": 433,
   "metadata": {},
   "outputs": [],
   "source": [
    "X_train = df_train.drop(['income_bracket'], axis=1)\n",
    "y_train = df_train['income_bracket']\n",
    "\n",
    "X_test = df_test.drop(['income_bracket'], axis=1)\n",
    "y_test = df_test['income_bracket']"
   ]
  },
  {
   "cell_type": "markdown",
   "metadata": {},
   "source": [
    "### Feature Selection"
   ]
  },
  {
   "cell_type": "code",
   "execution_count": 434,
   "metadata": {},
   "outputs": [
    {
     "data": {
      "text/plain": [
       "array([[37.,  3., 13., ...,  0., 43., 39.],\n",
       "       [11.,  3.,  8., ...,  0., 39., 39.],\n",
       "       [ 2.,  3., 13., ..., 34., 24., 39.],\n",
       "       ...,\n",
       "       [19.,  5., 10., ...,  0., 39., 39.],\n",
       "       [ 6.,  3., 10., ...,  0., 39., 39.],\n",
       "       [38.,  3., 10., ...,  0., 37., 39.]])"
      ]
     },
     "execution_count": 434,
     "metadata": {},
     "output_type": "execute_result"
    }
   ],
   "source": [
    "encoder = OrdinalEncoder()\n",
    "encoder.fit(X_train)\n",
    "\n",
    "# transform data X-train dan X-test\n",
    "X_train_encoded = encoder.fit_transform(X_train)\n",
    "X_train_encoded"
   ]
  },
  {
   "cell_type": "code",
   "execution_count": 435,
   "metadata": {},
   "outputs": [
    {
     "data": {
      "text/plain": [
       "array([1.20190205e+04, 2.46879235e-01, 1.64608549e+02, 2.35907095e+03,\n",
       "       7.77807018e+02, 1.38748218e+02, 2.79625498e+03, 2.10343278e+01,\n",
       "       3.73656423e+02, 2.29108503e+05, 3.28386555e+04, 4.40659158e+03,\n",
       "       3.70685445e+00])"
      ]
     },
     "execution_count": 435,
     "metadata": {},
     "output_type": "execute_result"
    }
   ],
   "source": [
    "test = SelectKBest(score_func=chi2, k=6)\n",
    "fit = test.fit(X_train_encoded, y_train)\n",
    "fit.scores_"
   ]
  },
  {
   "cell_type": "code",
   "execution_count": 436,
   "metadata": {},
   "outputs": [
    {
     "data": {
      "text/plain": [
       "array([1.20190e+04, 0.00000e+00, 1.65000e+02, 2.35900e+03, 7.78000e+02,\n",
       "       1.39000e+02, 2.79600e+03, 2.10000e+01, 3.74000e+02, 2.29109e+05,\n",
       "       3.28390e+04, 4.40700e+03, 4.00000e+00])"
      ]
     },
     "execution_count": 436,
     "metadata": {},
     "output_type": "execute_result"
    }
   ],
   "source": [
    "np.round_(fit.scores_)"
   ]
  },
  {
   "cell_type": "code",
   "execution_count": 437,
   "metadata": {},
   "outputs": [
    {
     "data": {
      "text/plain": [
       "capital_gain      229108.502567\n",
       "capital_loss       32838.655535\n",
       "age                12019.020501\n",
       "hours_per_week      4406.591576\n",
       "relationship        2796.254981\n",
       "education_num       2359.070949\n",
       "marital_status       777.807018\n",
       "sex                  373.656423\n",
       "education            164.608549\n",
       "occupation           138.748218\n",
       "race                  21.034328\n",
       "native_country         3.706854\n",
       "workclass              0.246879\n",
       "dtype: float64"
      ]
     },
     "execution_count": 437,
     "metadata": {},
     "output_type": "execute_result"
    }
   ],
   "source": [
    "chi = pd.Series(fit.scores_)\n",
    "chi.index = X.columns\n",
    "chi.sort_values(ascending=False)"
   ]
  },
  {
   "cell_type": "markdown",
   "metadata": {},
   "source": [
    "Pada Feature selection dengan metode chi square diperoleh variabel tertinggi yaitu capital_gain','capital_loss','age','hours_per_week','relationship','education' ini aka dijadika feature"
   ]
  },
  {
   "cell_type": "code",
   "execution_count": 438,
   "metadata": {},
   "outputs": [],
   "source": [
    "select_feature = ['capital_gain','capital_loss','age','hours_per_week','relationship','education']"
   ]
  },
  {
   "cell_type": "code",
   "execution_count": 439,
   "metadata": {},
   "outputs": [],
   "source": [
    "X_train = X_train[select_feature]\n",
    "X_test = X_test[select_feature]"
   ]
  },
  {
   "cell_type": "markdown",
   "metadata": {},
   "source": [
    "Memisahkan data categorical dan numerical"
   ]
  },
  {
   "cell_type": "code",
   "execution_count": 440,
   "metadata": {},
   "outputs": [
    {
     "name": "stdout",
     "output_type": "stream",
     "text": [
      "Number of numerical columns: 4\n",
      "Numerical columns: Index(['capital_gain', 'capital_loss', 'age', 'hours_per_week'], dtype='object')\n",
      "Number of categorical columns: 2\n",
      "Categorical columns: Index(['relationship', 'education'], dtype='object')\n"
     ]
    }
   ],
   "source": [
    "num_cols = X_train.select_dtypes(include=np.number).columns\n",
    "cat_cols = X_train.select_dtypes(include=['object']).columns\n",
    "\n",
    "print(f'Number of numerical columns: {len(num_cols)}')\n",
    "print(f'Numerical columns: {num_cols}')\n",
    "print(f'Number of categorical columns: {len(cat_cols)}')\n",
    "print(f'Categorical columns: {cat_cols}')\n",
    "\n",
    "X_train_num = X_train[num_cols]\n",
    "X_train_cat = X_train[cat_cols]\n",
    "\n",
    "X_test_num = X_test[num_cols]\n",
    "X_test_cat = X_test[cat_cols]"
   ]
  },
  {
   "cell_type": "markdown",
   "metadata": {},
   "source": [
    "### Feature Scalling"
   ]
  },
  {
   "cell_type": "markdown",
   "metadata": {},
   "source": [
    "Akan dilakukan scaling terhadap semua feature numerical Menggunakan **minmaxscaler**"
   ]
  },
  {
   "cell_type": "code",
   "execution_count": 441,
   "metadata": {},
   "outputs": [],
   "source": [
    "scaler= MinMaxScaler()\n",
    "scaler.fit(X_train_num)\n",
    "\n",
    "#Transform X_train dan X_test\n",
    "X_train_num_scaled = scaler.fit_transform(X_train_num)\n",
    "X_test_num_scaled = scaler.transform(X_test_num)"
   ]
  },
  {
   "cell_type": "markdown",
   "metadata": {},
   "source": [
    "Semua data numerical sudah berhasil di scalling"
   ]
  },
  {
   "cell_type": "markdown",
   "metadata": {},
   "source": [
    "### Feature  Encoding"
   ]
  },
  {
   "cell_type": "markdown",
   "metadata": {},
   "source": [
    "Akan dilakukan encoding terhadap semua feature categorical Menggunakan **OrdinalEncoder**"
   ]
  },
  {
   "cell_type": "code",
   "execution_count": 442,
   "metadata": {},
   "outputs": [
    {
     "data": {
      "text/plain": [
       "array([[ 0., 13.],\n",
       "       [ 0.,  8.],\n",
       "       [ 3., 13.],\n",
       "       ...,\n",
       "       [ 5., 10.],\n",
       "       [ 3., 10.],\n",
       "       [ 1., 10.]])"
      ]
     },
     "execution_count": 442,
     "metadata": {},
     "output_type": "execute_result"
    }
   ],
   "source": [
    "encoder = OrdinalEncoder()\n",
    "encoder.fit(X_train_cat)\n",
    "\n",
    "# transform data X-train dan X-test\n",
    "X_train_cat_encoded2 = encoder.fit_transform(X_train_cat)\n",
    "X_test_cat_encoded2 = encoder.fit_transform(X_test_cat)\n",
    "X_train_cat_encoded2"
   ]
  },
  {
   "cell_type": "markdown",
   "metadata": {},
   "source": [
    "Semua data categorical sudah berhasil di Encoding"
   ]
  },
  {
   "cell_type": "markdown",
   "metadata": {},
   "source": [
    "Menggabungkan kolom X_train_final dengan X_test_final"
   ]
  },
  {
   "cell_type": "code",
   "execution_count": 443,
   "metadata": {},
   "outputs": [
    {
     "data": {
      "text/plain": [
       "array([[ 0.        ,  0.        ,  0.63793103,  0.43877551,  0.        ,\n",
       "        13.        ],\n",
       "       [ 0.        ,  0.        ,  0.18965517,  0.39795918,  0.        ,\n",
       "         8.        ],\n",
       "       [ 0.        ,  0.44128205,  0.03448276,  0.24489796,  3.        ,\n",
       "        13.        ],\n",
       "       ...,\n",
       "       [ 0.07688077,  0.        ,  0.32758621,  0.39795918,  5.        ,\n",
       "        10.        ],\n",
       "       [ 0.        ,  0.        ,  0.10344828,  0.39795918,  3.        ,\n",
       "        10.        ],\n",
       "       [ 0.        ,  0.        ,  0.65517241,  0.37755102,  1.        ,\n",
       "        10.        ]])"
      ]
     },
     "execution_count": 443,
     "metadata": {},
     "output_type": "execute_result"
    }
   ],
   "source": [
    "# Concate Columns\n",
    "\n",
    "X_train_final = np.concatenate([X_train_num_scaled, X_train_cat_encoded2], axis=1)\n",
    "X_test_final = np.concatenate([X_test_num_scaled, X_test_cat_encoded2], axis=1)\n",
    "X_train_final"
   ]
  },
  {
   "cell_type": "code",
   "execution_count": 444,
   "metadata": {},
   "outputs": [
    {
     "data": {
      "text/plain": [
       "array([ 625.29925438,  278.82475411,  207.2244914 ,   45.37594918,\n",
       "       2796.25498129,  164.60854881])"
      ]
     },
     "execution_count": 444,
     "metadata": {},
     "output_type": "execute_result"
    }
   ],
   "source": [
    "# k = 6 tells four top features to be selected\n",
    "# Score function Chi2 tells the feature to be selected using Chi Square\n",
    "test2 = SelectKBest(score_func=chi2, k=4)\n",
    "fit2 = test.fit(X_train_final, y_train)\n",
    "fit.scores_"
   ]
  },
  {
   "cell_type": "code",
   "execution_count": 445,
   "metadata": {},
   "outputs": [
    {
     "data": {
      "text/plain": [
       "array([ 625.,  279.,  207.,   45., 2796.,  165.])"
      ]
     },
     "execution_count": 445,
     "metadata": {},
     "output_type": "execute_result"
    }
   ],
   "source": [
    "np.round_(fit.scores_)"
   ]
  },
  {
   "cell_type": "markdown",
   "metadata": {},
   "source": [
    "Mengubah data menjadi DataFrame"
   ]
  },
  {
   "cell_type": "code",
   "execution_count": 446,
   "metadata": {},
   "outputs": [],
   "source": [
    "X_train_final_df = pd.DataFrame(X_train_final, columns=[select_feature])\n",
    "X_test_final_df = pd.DataFrame(X_test_final, columns=[select_feature])"
   ]
  },
  {
   "cell_type": "markdown",
   "metadata": {},
   "source": [
    "# 6 - Model Definition"
   ]
  },
  {
   "cell_type": "markdown",
   "metadata": {},
   "source": [
    "Model yang akan digunakan:\n",
    "- logicR adalah model **Logistic Regression**\n",
    "- svc adalah model **Linear Support Vector Classifer**"
   ]
  },
  {
   "cell_type": "code",
   "execution_count": 448,
   "metadata": {},
   "outputs": [],
   "source": [
    "logicR = LogisticRegression()\n",
    "svc = LinearSVC(random_state=25, max_iter=1000, penalty='l1', dual=False)"
   ]
  },
  {
   "cell_type": "markdown",
   "metadata": {},
   "source": [
    "# 7 - Model Training"
   ]
  },
  {
   "cell_type": "code",
   "execution_count": 449,
   "metadata": {},
   "outputs": [
    {
     "name": "stdout",
     "output_type": "stream",
     "text": [
      "92.4 ms ± 6.87 ms per loop (mean ± std. dev. of 7 runs, 10 loops each)\n"
     ]
    }
   ],
   "source": [
    "%timeit logicR.fit(X_train_final, y_train)"
   ]
  },
  {
   "cell_type": "code",
   "execution_count": 450,
   "metadata": {},
   "outputs": [
    {
     "name": "stdout",
     "output_type": "stream",
     "text": [
      "161 ms ± 12.6 ms per loop (mean ± std. dev. of 7 runs, 10 loops each)\n"
     ]
    }
   ],
   "source": [
    "%timeit svc.fit(X_train_final, y_train)"
   ]
  },
  {
   "cell_type": "markdown",
   "metadata": {},
   "source": [
    "Model SVM lebih lama dibandingkan dengan Logistic Regression"
   ]
  },
  {
   "cell_type": "markdown",
   "metadata": {},
   "source": [
    "# 8 - Model Evaluation"
   ]
  },
  {
   "cell_type": "markdown",
   "metadata": {},
   "source": [
    "### Logistic Original Data"
   ]
  },
  {
   "cell_type": "code",
   "execution_count": 451,
   "metadata": {},
   "outputs": [
    {
     "name": "stdout",
     "output_type": "stream",
     "text": [
      "              precision    recall  f1-score   support\n",
      "\n",
      "           0       0.80      0.96      0.88     18177\n",
      "           1       0.72      0.30      0.43      6097\n",
      "\n",
      "    accuracy                           0.80     24274\n",
      "   macro avg       0.76      0.63      0.65     24274\n",
      "weighted avg       0.78      0.80      0.76     24274\n",
      "\n",
      "----Test Set----\n",
      "              precision    recall  f1-score   support\n",
      "\n",
      "           0       0.81      0.95      0.87      4623\n",
      "           1       0.69      0.31      0.43      1522\n",
      "\n",
      "    accuracy                           0.79      6145\n",
      "   macro avg       0.75      0.63      0.65      6145\n",
      "weighted avg       0.78      0.79      0.76      6145\n",
      "\n"
     ]
    }
   ],
   "source": [
    "print(classification_report(y_train, logicR.predict(X_train_final)))\n",
    "print('----Test Set----')\n",
    "print(classification_report(y_test, logicR.predict(X_test_final)))"
   ]
  },
  {
   "cell_type": "markdown",
   "metadata": {},
   "source": [
    "### Support Vector Classifier"
   ]
  },
  {
   "cell_type": "code",
   "execution_count": 452,
   "metadata": {},
   "outputs": [
    {
     "name": "stdout",
     "output_type": "stream",
     "text": [
      "----Training Set----\n",
      "              precision    recall  f1-score   support\n",
      "\n",
      "           0       0.80      0.97      0.88     18177\n",
      "           1       0.74      0.30      0.42      6097\n",
      "\n",
      "    accuracy                           0.80     24274\n",
      "   macro avg       0.77      0.63      0.65     24274\n",
      "weighted avg       0.79      0.80      0.76     24274\n",
      "\n",
      "----Validation Set----\n",
      "              precision    recall  f1-score   support\n",
      "\n",
      "           0       0.80      0.96      0.88      4623\n",
      "           1       0.72      0.29      0.41      1522\n",
      "\n",
      "    accuracy                           0.80      6145\n",
      "   macro avg       0.76      0.63      0.64      6145\n",
      "weighted avg       0.78      0.80      0.76      6145\n",
      "\n"
     ]
    }
   ],
   "source": [
    "print('----Training Set----')\n",
    "print(classification_report(y_train, svc.predict(X_train_final)))\n",
    "print('----Test Set----')\n",
    "print(classification_report(y_test, svc.predict(X_test_final)))"
   ]
  },
  {
   "cell_type": "markdown",
   "metadata": {},
   "source": [
    "### Model Analysis"
   ]
  },
  {
   "cell_type": "markdown",
   "metadata": {},
   "source": [
    "Hasil akurasi Logistic Regression dan Support Vector Classifier cukup bagus dan tidak memiliki perbedaan yang signifikan yaitu 0.80 namun pada test set Linear Regressi berbeda 0.01 lebih kecil. Jika dilihat dari recall dan f1-score nilainya kecil hal ini karenakan data **imbalance**"
   ]
  },
  {
   "cell_type": "markdown",
   "metadata": {},
   "source": [
    "# 9 - Model Inference (Testing)"
   ]
  },
  {
   "cell_type": "markdown",
   "metadata": {},
   "source": [
    "Setelah model dilatih dan evaluasi, pada bagian ini model akan diuji dengan data inference yang sudah disiapkan diawal"
   ]
  },
  {
   "cell_type": "code",
   "execution_count": 453,
   "metadata": {},
   "outputs": [
    {
     "data": {
      "text/html": [
       "<div>\n",
       "<style scoped>\n",
       "    .dataframe tbody tr th:only-of-type {\n",
       "        vertical-align: middle;\n",
       "    }\n",
       "\n",
       "    .dataframe tbody tr th {\n",
       "        vertical-align: top;\n",
       "    }\n",
       "\n",
       "    .dataframe thead th {\n",
       "        text-align: right;\n",
       "    }\n",
       "</style>\n",
       "<table border=\"1\" class=\"dataframe\">\n",
       "  <thead>\n",
       "    <tr style=\"text-align: right;\">\n",
       "      <th></th>\n",
       "      <th>age</th>\n",
       "      <th>workclass</th>\n",
       "      <th>education</th>\n",
       "      <th>education_num</th>\n",
       "      <th>marital_status</th>\n",
       "      <th>occupation</th>\n",
       "      <th>relationship</th>\n",
       "      <th>race</th>\n",
       "      <th>sex</th>\n",
       "      <th>capital_gain</th>\n",
       "      <th>capital_loss</th>\n",
       "      <th>hours_per_week</th>\n",
       "      <th>native_country</th>\n",
       "      <th>income_bracket</th>\n",
       "    </tr>\n",
       "  </thead>\n",
       "  <tbody>\n",
       "    <tr>\n",
       "      <th>0</th>\n",
       "      <td>25</td>\n",
       "      <td>Private</td>\n",
       "      <td>Assoc-acdm</td>\n",
       "      <td>12</td>\n",
       "      <td>Never-married</td>\n",
       "      <td>Sales</td>\n",
       "      <td>Own-child</td>\n",
       "      <td>White</td>\n",
       "      <td>Female</td>\n",
       "      <td>0</td>\n",
       "      <td>0</td>\n",
       "      <td>40</td>\n",
       "      <td>Peru</td>\n",
       "      <td>&lt;=50K</td>\n",
       "    </tr>\n",
       "    <tr>\n",
       "      <th>1</th>\n",
       "      <td>43</td>\n",
       "      <td>Private</td>\n",
       "      <td>Bachelors</td>\n",
       "      <td>13</td>\n",
       "      <td>Divorced</td>\n",
       "      <td>Adm-clerical</td>\n",
       "      <td>Not-in-family</td>\n",
       "      <td>White</td>\n",
       "      <td>Female</td>\n",
       "      <td>0</td>\n",
       "      <td>0</td>\n",
       "      <td>40</td>\n",
       "      <td>United-States</td>\n",
       "      <td>&lt;=50K</td>\n",
       "    </tr>\n",
       "    <tr>\n",
       "      <th>2</th>\n",
       "      <td>59</td>\n",
       "      <td>Local-gov</td>\n",
       "      <td>HS-grad</td>\n",
       "      <td>9</td>\n",
       "      <td>Separated</td>\n",
       "      <td>Protective-serv</td>\n",
       "      <td>Unmarried</td>\n",
       "      <td>Black</td>\n",
       "      <td>Female</td>\n",
       "      <td>0</td>\n",
       "      <td>0</td>\n",
       "      <td>40</td>\n",
       "      <td>United-States</td>\n",
       "      <td>&lt;=50K</td>\n",
       "    </tr>\n",
       "    <tr>\n",
       "      <th>3</th>\n",
       "      <td>61</td>\n",
       "      <td>Private</td>\n",
       "      <td>11th</td>\n",
       "      <td>7</td>\n",
       "      <td>Widowed</td>\n",
       "      <td>Handlers-cleaners</td>\n",
       "      <td>Not-in-family</td>\n",
       "      <td>White</td>\n",
       "      <td>Female</td>\n",
       "      <td>0</td>\n",
       "      <td>0</td>\n",
       "      <td>30</td>\n",
       "      <td>United-States</td>\n",
       "      <td>&lt;=50K</td>\n",
       "    </tr>\n",
       "    <tr>\n",
       "      <th>4</th>\n",
       "      <td>36</td>\n",
       "      <td>Private</td>\n",
       "      <td>Assoc-acdm</td>\n",
       "      <td>12</td>\n",
       "      <td>Divorced</td>\n",
       "      <td>Exec-managerial</td>\n",
       "      <td>Not-in-family</td>\n",
       "      <td>White</td>\n",
       "      <td>Male</td>\n",
       "      <td>0</td>\n",
       "      <td>0</td>\n",
       "      <td>48</td>\n",
       "      <td>United-States</td>\n",
       "      <td>&lt;=50K</td>\n",
       "    </tr>\n",
       "  </tbody>\n",
       "</table>\n",
       "</div>"
      ],
      "text/plain": [
       "   age  workclass   education  education_num marital_status  \\\n",
       "0   25    Private  Assoc-acdm             12  Never-married   \n",
       "1   43    Private   Bachelors             13       Divorced   \n",
       "2   59  Local-gov     HS-grad              9      Separated   \n",
       "3   61    Private        11th              7        Widowed   \n",
       "4   36    Private  Assoc-acdm             12       Divorced   \n",
       "\n",
       "          occupation   relationship   race     sex  capital_gain  \\\n",
       "0              Sales      Own-child  White  Female             0   \n",
       "1       Adm-clerical  Not-in-family  White  Female             0   \n",
       "2    Protective-serv      Unmarried  Black  Female             0   \n",
       "3  Handlers-cleaners  Not-in-family  White  Female             0   \n",
       "4    Exec-managerial  Not-in-family  White    Male             0   \n",
       "\n",
       "   capital_loss  hours_per_week native_country income_bracket  \n",
       "0             0              40           Peru          <=50K  \n",
       "1             0              40  United-States          <=50K  \n",
       "2             0              40  United-States          <=50K  \n",
       "3             0              30  United-States          <=50K  \n",
       "4             0              48  United-States          <=50K  "
      ]
     },
     "execution_count": 453,
     "metadata": {},
     "output_type": "execute_result"
    }
   ],
   "source": [
    "data_inf.head()"
   ]
  },
  {
   "cell_type": "markdown",
   "metadata": {},
   "source": [
    "Inference Preprocessing"
   ]
  },
  {
   "cell_type": "markdown",
   "metadata": {},
   "source": [
    "Memisahkan data feature dan target"
   ]
  },
  {
   "cell_type": "code",
   "execution_count": 479,
   "metadata": {},
   "outputs": [],
   "source": [
    "X_data_inf = data_inf[select_feature]\n",
    "y_data_inf = data_inf['income_bracket'].map({'<=50K': 0, '>50K': 1})"
   ]
  },
  {
   "cell_type": "markdown",
   "metadata": {},
   "source": [
    "Memisahkan kolom numerical dan categorical"
   ]
  },
  {
   "cell_type": "code",
   "execution_count": 480,
   "metadata": {},
   "outputs": [],
   "source": [
    "num_cols_inf = X_data_inf.select_dtypes(include=np.number).columns\n",
    "cat_cols_inf = X_data_inf.select_dtypes(include=['object']).columns\n",
    "data_num_inf = data_inf[num_cols_inf]\n",
    "data_cat_inf = data_inf[cat_cols_inf]"
   ]
  },
  {
   "cell_type": "markdown",
   "metadata": {},
   "source": [
    "Scalling dan Encoding Feature"
   ]
  },
  {
   "cell_type": "code",
   "execution_count": 482,
   "metadata": {},
   "outputs": [],
   "source": [
    "model_scaler = MinMaxScaler()\n",
    "model_scaler.fit(data_num_inf)\n",
    "model_encoder = OrdinalEncoder()\n",
    "model_encoder.fit(data_cat_inf)\n",
    "\n",
    "data_scal_inf = model_scaler.transform(data_num_inf)\n",
    "data_encod_inf = model_encoder.transform(data_cat_inf)"
   ]
  },
  {
   "cell_type": "markdown",
   "metadata": {},
   "source": [
    "Menggabungkan data numerik dan kategorik"
   ]
  },
  {
   "cell_type": "code",
   "execution_count": 484,
   "metadata": {},
   "outputs": [
    {
     "data": {
      "text/plain": [
       "array([[0.        , 0.        , 0.1       , 0.54545455, 2.        ,\n",
       "        1.        ],\n",
       "       [0.        , 0.        , 0.55      , 0.54545455, 1.        ,\n",
       "        2.        ],\n",
       "       [0.        , 0.        , 0.95      , 0.54545455, 3.        ,\n",
       "        3.        ],\n",
       "       [0.        , 0.        , 1.        , 0.24242424, 1.        ,\n",
       "        0.        ],\n",
       "       [0.        , 0.        , 0.375     , 0.78787879, 1.        ,\n",
       "        1.        ],\n",
       "       [0.        , 0.        , 0.65      , 0.6969697 , 1.        ,\n",
       "        3.        ],\n",
       "       [0.        , 0.        , 0.2       , 1.        , 1.        ,\n",
       "        4.        ],\n",
       "       [0.        , 0.        , 0.05      , 0.        , 1.        ,\n",
       "        2.        ],\n",
       "       [0.        , 0.        , 0.        , 0.54545455, 2.        ,\n",
       "        3.        ],\n",
       "       [0.        , 0.        , 0.6       , 0.54545455, 0.        ,\n",
       "        5.        ]])"
      ]
     },
     "execution_count": 484,
     "metadata": {},
     "output_type": "execute_result"
    }
   ],
   "source": [
    "data_inf_final = np.concatenate([data_scal_inf, data_encod_inf], axis=1)\n",
    "data_inf_final"
   ]
  },
  {
   "cell_type": "code",
   "execution_count": 485,
   "metadata": {},
   "outputs": [
    {
     "data": {
      "text/html": [
       "<div>\n",
       "<style scoped>\n",
       "    .dataframe tbody tr th:only-of-type {\n",
       "        vertical-align: middle;\n",
       "    }\n",
       "\n",
       "    .dataframe tbody tr th {\n",
       "        vertical-align: top;\n",
       "    }\n",
       "\n",
       "    .dataframe thead tr th {\n",
       "        text-align: left;\n",
       "    }\n",
       "</style>\n",
       "<table border=\"1\" class=\"dataframe\">\n",
       "  <thead>\n",
       "    <tr>\n",
       "      <th></th>\n",
       "      <th>age</th>\n",
       "      <th>capital_gain</th>\n",
       "      <th>capital_loss</th>\n",
       "      <th>education</th>\n",
       "      <th>hours_per_week</th>\n",
       "      <th>relationship</th>\n",
       "    </tr>\n",
       "  </thead>\n",
       "  <tbody>\n",
       "    <tr>\n",
       "      <th>0</th>\n",
       "      <td>0.0</td>\n",
       "      <td>0.0</td>\n",
       "      <td>0.100</td>\n",
       "      <td>0.545455</td>\n",
       "      <td>2.0</td>\n",
       "      <td>1.0</td>\n",
       "    </tr>\n",
       "    <tr>\n",
       "      <th>1</th>\n",
       "      <td>0.0</td>\n",
       "      <td>0.0</td>\n",
       "      <td>0.550</td>\n",
       "      <td>0.545455</td>\n",
       "      <td>1.0</td>\n",
       "      <td>2.0</td>\n",
       "    </tr>\n",
       "    <tr>\n",
       "      <th>2</th>\n",
       "      <td>0.0</td>\n",
       "      <td>0.0</td>\n",
       "      <td>0.950</td>\n",
       "      <td>0.545455</td>\n",
       "      <td>3.0</td>\n",
       "      <td>3.0</td>\n",
       "    </tr>\n",
       "    <tr>\n",
       "      <th>3</th>\n",
       "      <td>0.0</td>\n",
       "      <td>0.0</td>\n",
       "      <td>1.000</td>\n",
       "      <td>0.242424</td>\n",
       "      <td>1.0</td>\n",
       "      <td>0.0</td>\n",
       "    </tr>\n",
       "    <tr>\n",
       "      <th>4</th>\n",
       "      <td>0.0</td>\n",
       "      <td>0.0</td>\n",
       "      <td>0.375</td>\n",
       "      <td>0.787879</td>\n",
       "      <td>1.0</td>\n",
       "      <td>1.0</td>\n",
       "    </tr>\n",
       "    <tr>\n",
       "      <th>5</th>\n",
       "      <td>0.0</td>\n",
       "      <td>0.0</td>\n",
       "      <td>0.650</td>\n",
       "      <td>0.696970</td>\n",
       "      <td>1.0</td>\n",
       "      <td>3.0</td>\n",
       "    </tr>\n",
       "    <tr>\n",
       "      <th>6</th>\n",
       "      <td>0.0</td>\n",
       "      <td>0.0</td>\n",
       "      <td>0.200</td>\n",
       "      <td>1.000000</td>\n",
       "      <td>1.0</td>\n",
       "      <td>4.0</td>\n",
       "    </tr>\n",
       "    <tr>\n",
       "      <th>7</th>\n",
       "      <td>0.0</td>\n",
       "      <td>0.0</td>\n",
       "      <td>0.050</td>\n",
       "      <td>0.000000</td>\n",
       "      <td>1.0</td>\n",
       "      <td>2.0</td>\n",
       "    </tr>\n",
       "    <tr>\n",
       "      <th>8</th>\n",
       "      <td>0.0</td>\n",
       "      <td>0.0</td>\n",
       "      <td>0.000</td>\n",
       "      <td>0.545455</td>\n",
       "      <td>2.0</td>\n",
       "      <td>3.0</td>\n",
       "    </tr>\n",
       "    <tr>\n",
       "      <th>9</th>\n",
       "      <td>0.0</td>\n",
       "      <td>0.0</td>\n",
       "      <td>0.600</td>\n",
       "      <td>0.545455</td>\n",
       "      <td>0.0</td>\n",
       "      <td>5.0</td>\n",
       "    </tr>\n",
       "  </tbody>\n",
       "</table>\n",
       "</div>"
      ],
      "text/plain": [
       "   age capital_gain capital_loss education hours_per_week relationship\n",
       "0  0.0          0.0        0.100  0.545455            2.0          1.0\n",
       "1  0.0          0.0        0.550  0.545455            1.0          2.0\n",
       "2  0.0          0.0        0.950  0.545455            3.0          3.0\n",
       "3  0.0          0.0        1.000  0.242424            1.0          0.0\n",
       "4  0.0          0.0        0.375  0.787879            1.0          1.0\n",
       "5  0.0          0.0        0.650  0.696970            1.0          3.0\n",
       "6  0.0          0.0        0.200  1.000000            1.0          4.0\n",
       "7  0.0          0.0        0.050  0.000000            1.0          2.0\n",
       "8  0.0          0.0        0.000  0.545455            2.0          3.0\n",
       "9  0.0          0.0        0.600  0.545455            0.0          5.0"
      ]
     },
     "execution_count": 485,
     "metadata": {},
     "output_type": "execute_result"
    }
   ],
   "source": [
    "# Membuat DataFrame data_inf_final\n",
    "\n",
    "X_data_inf_final = pd.DataFrame(data_inf_final, columns=[data_num_inf + data_cat_inf])\n",
    "X_data_inf_final"
   ]
  },
  {
   "cell_type": "markdown",
   "metadata": {},
   "source": [
    "### Inference Prediction"
   ]
  },
  {
   "cell_type": "markdown",
   "metadata": {},
   "source": [
    "Data Inference sudah di preprocessing, saatnya kita prediksi pada setiap model"
   ]
  },
  {
   "cell_type": "code",
   "execution_count": 486,
   "metadata": {},
   "outputs": [],
   "source": [
    "y_pred_logicR = logicR.predict(X_data_inf_final)\n",
    "y_pred_svc = svc.predict(X_data_inf_final)"
   ]
  },
  {
   "cell_type": "code",
   "execution_count": 487,
   "metadata": {},
   "outputs": [],
   "source": [
    "y_pred_logicR = pd.DataFrame(y_pred_logicR, columns=['LR'])\n",
    "y_pred_svc = pd.DataFrame(y_pred_svc, columns=['SVC'])"
   ]
  },
  {
   "cell_type": "code",
   "execution_count": 491,
   "metadata": {},
   "outputs": [
    {
     "data": {
      "text/html": [
       "<div>\n",
       "<style scoped>\n",
       "    .dataframe tbody tr th:only-of-type {\n",
       "        vertical-align: middle;\n",
       "    }\n",
       "\n",
       "    .dataframe tbody tr th {\n",
       "        vertical-align: top;\n",
       "    }\n",
       "\n",
       "    .dataframe thead th {\n",
       "        text-align: right;\n",
       "    }\n",
       "</style>\n",
       "<table border=\"1\" class=\"dataframe\">\n",
       "  <thead>\n",
       "    <tr style=\"text-align: right;\">\n",
       "      <th></th>\n",
       "      <th>LR</th>\n",
       "      <th>SVC</th>\n",
       "      <th>Actual</th>\n",
       "    </tr>\n",
       "  </thead>\n",
       "  <tbody>\n",
       "    <tr>\n",
       "      <th>0</th>\n",
       "      <td>0</td>\n",
       "      <td>0</td>\n",
       "      <td>0</td>\n",
       "    </tr>\n",
       "    <tr>\n",
       "      <th>1</th>\n",
       "      <td>0</td>\n",
       "      <td>0</td>\n",
       "      <td>0</td>\n",
       "    </tr>\n",
       "    <tr>\n",
       "      <th>2</th>\n",
       "      <td>0</td>\n",
       "      <td>0</td>\n",
       "      <td>0</td>\n",
       "    </tr>\n",
       "    <tr>\n",
       "      <th>3</th>\n",
       "      <td>0</td>\n",
       "      <td>0</td>\n",
       "      <td>0</td>\n",
       "    </tr>\n",
       "    <tr>\n",
       "      <th>4</th>\n",
       "      <td>0</td>\n",
       "      <td>0</td>\n",
       "      <td>0</td>\n",
       "    </tr>\n",
       "    <tr>\n",
       "      <th>5</th>\n",
       "      <td>0</td>\n",
       "      <td>0</td>\n",
       "      <td>0</td>\n",
       "    </tr>\n",
       "    <tr>\n",
       "      <th>6</th>\n",
       "      <td>0</td>\n",
       "      <td>0</td>\n",
       "      <td>0</td>\n",
       "    </tr>\n",
       "    <tr>\n",
       "      <th>7</th>\n",
       "      <td>0</td>\n",
       "      <td>0</td>\n",
       "      <td>0</td>\n",
       "    </tr>\n",
       "    <tr>\n",
       "      <th>8</th>\n",
       "      <td>0</td>\n",
       "      <td>0</td>\n",
       "      <td>0</td>\n",
       "    </tr>\n",
       "    <tr>\n",
       "      <th>9</th>\n",
       "      <td>0</td>\n",
       "      <td>0</td>\n",
       "      <td>1</td>\n",
       "    </tr>\n",
       "  </tbody>\n",
       "</table>\n",
       "</div>"
      ],
      "text/plain": [
       "   LR  SVC  Actual\n",
       "0   0    0       0\n",
       "1   0    0       0\n",
       "2   0    0       0\n",
       "3   0    0       0\n",
       "4   0    0       0\n",
       "5   0    0       0\n",
       "6   0    0       0\n",
       "7   0    0       0\n",
       "8   0    0       0\n",
       "9   0    0       1"
      ]
     },
     "execution_count": 491,
     "metadata": {},
     "output_type": "execute_result"
    }
   ],
   "source": [
    "predictions = pd.concat([y_pred_logicR, y_pred_svc], axis=1)\n",
    "predictions['Actual'] = y_data_inf\n",
    "predictions"
   ]
  },
  {
   "cell_type": "code",
   "execution_count": 492,
   "metadata": {},
   "outputs": [
    {
     "name": "stdout",
     "output_type": "stream",
     "text": [
      "----Logistic Regression----\n",
      "              precision    recall  f1-score   support\n",
      "\n",
      "           0       0.90      1.00      0.95         9\n",
      "           1       0.00      0.00      0.00         1\n",
      "\n",
      "    accuracy                           0.90        10\n",
      "   macro avg       0.45      0.50      0.47        10\n",
      "weighted avg       0.81      0.90      0.85        10\n",
      "\n",
      "----Support Vector Machine----\n",
      "              precision    recall  f1-score   support\n",
      "\n",
      "           0       0.90      1.00      0.95         9\n",
      "           1       0.00      0.00      0.00         1\n",
      "\n",
      "    accuracy                           0.90        10\n",
      "   macro avg       0.45      0.50      0.47        10\n",
      "weighted avg       0.81      0.90      0.85        10\n",
      "\n"
     ]
    }
   ],
   "source": [
    "print('----Logistic Regression----')\n",
    "print(classification_report(y_data_inf, predictions['LR']))\n",
    "print('----Support Vector Machine----')\n",
    "print(classification_report(y_data_inf, predictions['SVC']))"
   ]
  },
  {
   "cell_type": "markdown",
   "metadata": {},
   "source": [
    "### Model Analysis"
   ]
  },
  {
   "cell_type": "markdown",
   "metadata": {},
   "source": [
    "Dari hasil prediksi menggunakan data inference akurasinya sangat tinggi namu model gagal memprediksi income_bracket >50K "
   ]
  },
  {
   "cell_type": "markdown",
   "metadata": {},
   "source": [
    "### Get Intercept and Slope"
   ]
  },
  {
   "cell_type": "code",
   "execution_count": 494,
   "metadata": {},
   "outputs": [
    {
     "name": "stdout",
     "output_type": "stream",
     "text": [
      "Intercept :  [-3.89464012]\n",
      "Slope     :  [[18.90360693  2.76284649  2.19300611  3.39151378 -0.29834824  0.06278132]]\n"
     ]
    }
   ],
   "source": [
    "print('Intercept : ', logicR.intercept_)\n",
    "print('Slope     : ', logicR.coef_)"
   ]
  },
  {
   "cell_type": "code",
   "execution_count": 497,
   "metadata": {},
   "outputs": [
    {
     "data": {
      "text/plain": [
       "MultiIndex([(  'capital_gain',),\n",
       "            (  'capital_loss',),\n",
       "            (           'age',),\n",
       "            ('hours_per_week',),\n",
       "            (  'relationship',),\n",
       "            (     'education',)],\n",
       "           )"
      ]
     },
     "execution_count": 497,
     "metadata": {},
     "output_type": "execute_result"
    }
   ],
   "source": [
    "X_train_final_df.columns"
   ]
  },
  {
   "cell_type": "markdown",
   "metadata": {},
   "source": [
    "### Conclusion\n",
    "\n",
    "- Pada project kali ini dataset yang digunakan adalah data penghasilan dengan kategori kurang dari 50K dan lebig dari 50K. Jenis pekerjaan dengan gaji diatas > 50 terbanyak adalah Exec-managerial dan farming-fishing, diperoleh juga rata rata usia aktif bekerja diantara 38 tahun.\n",
    "- Kolom yang digunakan untuk model adalah 'capital_gain','capital_loss','age','hours_per_week','relationship','education' dengan menggunakan Logistic regression dan Support Vector Classifier \n",
    "- Hasil model Logistic Regression dan SVC berhasil mendapatkan akurasi yang cukup tinggi yaitu 0.80 namun recall dan f1 terhdap 1= >50K nilainya sangat kecil hal ini karena data imbalace. setelah diuji dengan data inference hasil akurasi semakin tinggi yaitu 0.90 namun recall dan f1 semakin turun hal ini karena model gagal memprediksi nilai 1\n",
    "- Jadi model dengan performa paling baik diantara 2 model tersebut yaitu support vector classifier karena akurasi antara train dan test tidak berbeda nilai recall lebih besar dibanding Logictic Regression walaupun jika dilihat dari kecepatan pemprosesan lebih unggul Logictic Regresion\n",
    "\n",
    "**NOTE**: improvment: Karena model data imbalance mungkin bisa menambahkan resapling untuk pengujian, menggunakan parameter lain dan"
   ]
  },
  {
   "cell_type": "markdown",
   "metadata": {},
   "source": [
    "# Conceptual Problems\n",
    "Jawab pertanyaan berikut:\n",
    "\n",
    "1. Apakah yang dimaksud dengan coeficient pada logistic regression?\n",
    "> suatu Feature koefisien terhadap x artinya yang mempengaruhi nilai x\n",
    "2. Apakah yang dimaksud dengan Support Vector pada SVM?\n",
    "> Suppory Vector pada SVM adalah data yang paling mendekati hyperplane (pemisahnya /persamaan garis)\n",
    "3. Apakah fungsi parameter kernel pada SVM? Jelaskan salah satu kernel yang kalian pahami!\n",
    "> Fungsi kernel yaitu untuk menentukan proses pemetaan data non-linear berdimensi rendah dan mengubahnya ke dalam ruang dimensi yang lebih tinggi. Tujuannya untuk memudahkan pengklasifikasian data dengan menemukan hyperplane yang dapat memisahkan dataset secara linear dengan baik.\n",
    "Salah satu kernel yang saya pahami adalah 'rbf'. 'rbf' akan memetakan feature ke ruang infinit dia akan mencari yang paling bagus, kurang lebih akan membentuk garis tidak linear (meliuk-liuk) ketajaman liuknya dipengaruhi oleh C dan Gamma yang akan di set."
   ]
  }
 ],
 "metadata": {
  "kernelspec": {
   "display_name": "Python 3.10.7 64-bit",
   "language": "python",
   "name": "python3"
  },
  "language_info": {
   "codemirror_mode": {
    "name": "ipython",
    "version": 3
   },
   "file_extension": ".py",
   "mimetype": "text/x-python",
   "name": "python",
   "nbconvert_exporter": "python",
   "pygments_lexer": "ipython3",
   "version": "3.10.7"
  },
  "orig_nbformat": 4,
  "vscode": {
   "interpreter": {
    "hash": "5591f2605832b160740231f2510d2dbb1d1e15936a10686c27038ab251cb1772"
   }
  }
 },
 "nbformat": 4,
 "nbformat_minor": 2
}
